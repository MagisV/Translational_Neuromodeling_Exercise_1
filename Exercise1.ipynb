{
 "cells": [
  {
   "cell_type": "markdown",
   "metadata": {},
   "source": [
    "# Exercise 1.1"
   ]
  },
  {
   "cell_type": "markdown",
   "metadata": {},
   "source": [
    "## 1.1 a"
   ]
  },
  {
   "cell_type": "markdown",
   "metadata": {
    "vscode": {
     "languageId": "plaintext"
    }
   },
   "source": [
    "As $\\varepsilon$ follows the normal distribution, the conditional distribution of y given x is:\n",
    "\n",
    "$$\n",
    "y \\mid x \\sim \\mathcal{N} \\left( \\theta_0 + \\theta_1 x + \\dots + \\theta_P x^P, \\sigma^2 \\right)\n",
    "$$\n",
    "\n",
    "The probability density function (PDF) for a normal distribution is:\n",
    "\n",
    "$$\n",
    "p(y \\mid x, \\theta, \\sigma^2) = \\frac{1}{\\sqrt{2\\pi\\sigma^2}} \\exp \\left( -\\frac{(y - \\mu(x))^2}{2\\sigma^2} \\right)\n",
    "$$\n",
    "\n",
    "Where $\\mu(x)$ is the predicted value:\n",
    "\n",
    "$$\n",
    "\\mu(x) = \\theta_0 + \\theta_1 x + \\dots + \\theta_P x^P.\n",
    "$$\n",
    "\n",
    "Given N independent observations $\\mathbf{y} = (y_1, y_2, \\dots, y_N)^T$, the likelihood function is:\n",
    "\n",
    "$$\n",
    "L(\\theta, \\sigma^2) = \\prod_{i=1}^{N} p(y_i \\mid x_i, \\theta, \\sigma^2)\n",
    "$$\n",
    "\n",
    "Substituting the normal PDF:\n",
    "\n",
    "$$\n",
    "L(\\theta, \\sigma^2) = \\prod_{i=1}^{N} \\frac{1}{\\sqrt{2\\pi\\sigma^2}} \\exp \\left( -\\frac{(y_i - \\mu(x_i))^2}{2\\sigma^2} \\right)\n",
    "$$\n",
    "\n",
    "Taking the natural logarithm:\n",
    "\n",
    "$$\n",
    "\\log L(\\theta, \\sigma^2) = \\sum_{i=1}^{N} \\left[ -\\frac{1}{2} \\log (2\\pi\\sigma^2) - \\frac{(y_i - \\mu(x_i))^2}{2\\sigma^2} \\right]\n",
    "$$\n",
    "\n",
    "Simplifying:\n",
    "\n",
    "$$\n",
    "\\log L(\\theta, \\sigma^2) = -\\frac{N}{2} \\log (2\\pi\\sigma^2) - \\frac{1}{2\\sigma^2} \\sum_{i=1}^{N} (y_i - \\mu(x_i))^2\n",
    "$$\n",
    "\n",
    "Where\n",
    "\n",
    "$$\n",
    "\\mu(x_i) = \\theta_0 + \\theta_1 x_i + \\dots + \\theta_P x_i^P.\n",
    "$$"
   ]
  },
  {
   "cell_type": "markdown",
   "metadata": {},
   "source": [
    "## 1.1 b "
   ]
  },
  {
   "cell_type": "markdown",
   "metadata": {},
   "source": [
    "To find the maximum likelihood estimates, we differentiate the log-likelihood with respect to each parameter $\\theta_j$ and set the derivative equal to zero:\n",
    "\n",
    "$$\n",
    "\\frac{\\partial}{\\partial \\theta_j}\\log L(\\theta, \\sigma^2) = 0\n",
    "$$\n",
    "\n",
    "We have:\n",
    "\n",
    "$$\n",
    "\\frac{\\partial}{\\partial \\theta_j}\\left[ -\\frac{1}{2\\sigma^2}\\sum_{i=1}^{N}(y_i - \\mu(x_i))^2 \\right] = 0\n",
    "$$\n",
    "\n",
    "Carrying out this differentiation explicitly, we get:\n",
    "\n",
    "$$\n",
    "\\frac{1}{\\sigma^2}\\sum_{i=1}^{N}(y_i - \\mu(x_i)) x_i^j = 0\n",
    "$$\n",
    "\n",
    "Since  $\\sigma^2$ is positive and nonzero, we simplify to:\n",
    "\n",
    "$$\n",
    "\\sum_{i=1}^{N}(y_i - \\mu(x_i)) x_i^j = 0 \\quad \\text{for each } j=0,1,...,P\n",
    "$$\n",
    "\n",
    "This results in the linear system of equations (normal equations):\n",
    "\n",
    "$$\n",
    "\\sum_{i=1}^{N}\\left(y_i - (\\theta_0 + \\theta_1 x_i + \\dots + \\theta_P x_i^P)\\right)x_i^j = 0 \\quad \\text{for each } j=0,1,\\dots,P.\n",
    "$$\n",
    "\n",
    "In matrix form, this solution can be expressed as:\n",
    "\n",
    "$$\n",
    "\\hat{\\theta} = (X^TX)^{-1}X^Ty\n",
    "$$\n",
    "\n",
    "where $X$ is the design matrix containing the polynomial terms.\n",
    "\n"
   ]
  },
  {
   "cell_type": "markdown",
   "metadata": {},
   "source": [
    "## 1.1 c "
   ]
  },
  {
   "cell_type": "code",
   "execution_count": null,
   "metadata": {},
   "outputs": [],
   "source": [
    "import Pkg\n",
    "Pkg.add(\"Plots\")\n",
    "using Plots\n",
    "\n",
    "theta_0 = 0.3\n",
    "theta_1 = -0.1\n",
    "theta_2 = 0.5\n",
    "variance = 0.0001\n",
    "standard_deviation = sqrt(variance)\n",
    "\n",
    "function get_y_for_noisy_x(start, step, stop, seed)\n",
    "    x = start:step:stop\n",
    "    Random.seed!(seed)\n",
    "    epsilon = randn(length(x))\n",
    "    y = theta_0 .+ theta_1*x .+ theta_2*x.^2 .+ standard_deviation*epsilon\n",
    "    return x, y\n",
    "end\n",
    "\n",
    "x, y = get_y_for_noisy_x(-0.5, 0.1, 0.2, 42)\n",
    "\n",
    "scatter(x, y, label=\"data\", xlabel=\"x\", ylabel=\"y\", title=\"Data\")"
   ]
  },
  {
   "cell_type": "markdown",
   "metadata": {},
   "source": [
    "## 1.1 d"
   ]
  },
  {
   "cell_type": "code",
   "execution_count": null,
   "metadata": {},
   "outputs": [],
   "source": [
    "# Helper function: create design matrix for polynomial of order P\n",
    "function design_matrix(xvals, P)\n",
    "    # X will have columns [1, x, x^2, ..., x^P]\n",
    "    X = [xi^p for xi in xvals, p in 0:P]\n",
    "    return X\n",
    "end\n",
    "\n",
    "# Compute ML estimate \\hat{theta} via normal equations and log-likelihood\n",
    "function ml_estimate(xvals, yvals, P)\n",
    "    X = design_matrix(xvals, P)\n",
    "    # ML parameter estimate using least squares\n",
    "    theta_hat = (X'X) \\ (X'yvals)\n",
    "\n",
    "    # Fitted values\n",
    "    y_hat = X * theta_hat\n",
    "\n",
    "    # Residual sum of squares (RSS)\n",
    "    rss = sum((yvals .- y_hat).^2)\n",
    "\n",
    "    # Estimate of sigma^2 is RSS / N in the ML setting\n",
    "    sigma2_hat = rss / length(yvals)\n",
    "\n",
    "    # Log-likelihood under Gaussian noise\n",
    "    # L = -N/2 * log(2πσ_hat^2) - RSS/(2σ_hat^2)\n",
    "    N = length(yvals)\n",
    "    logL = -N/2 * log(2*π*sigma2_hat) - (rss / (2*sigma2_hat))\n",
    "\n",
    "    return theta_hat, logL\n",
    "end\n",
    "\n",
    "# compute estimates and log-likelihoods for P=1, P=2, P=7\n",
    "P_values = [1, 2, 7]\n",
    "estimates = [ml_estimate(x, y, P) for P in P_values]\n",
    "\n",
    "# print the estimates and log-likelihoods for each P value\n",
    "for (P, (theta_hat, logL)) in zip(P_values, estimates)\n",
    "    println(\"P = $P: \\n theta_hat = $theta_hat, \\n logL = $logL\")\n",
    "end"
   ]
  },
  {
   "cell_type": "markdown",
   "metadata": {},
   "source": [
    "The first three parameters of $\\theta$ are closest to their true values when the number of parameters is the same as in the original function. The function with only 2 parameters is underfitting and the function with 7 parameters is overfitting.\n",
    "\n",
    "The log-likelihood is increasing with the number of parameters. This is an indicator that, for noisy data, if the data is too likely to have been generated by the model, the model is likely overfitting."
   ]
  },
  {
   "cell_type": "markdown",
   "metadata": {},
   "source": [
    "## 1.1 e"
   ]
  },
  {
   "cell_type": "code",
   "execution_count": null,
   "metadata": {},
   "outputs": [],
   "source": [
    "x_new, y_new = get_y_for_noisy_x(-0.5, 0.01, 0.5, 42)\n",
    "\n",
    "plot(x_new, y_new, label=\"data\", xlabel=\"x\", ylabel=\"y\", title=\"Data\")"
   ]
  },
  {
   "cell_type": "code",
   "execution_count": 6,
   "metadata": {},
   "outputs": [
    {
     "name": "stdout",
     "output_type": "stream",
     "text": [
      "P = 1: \n",
      " logL = 129.71750005301888\n",
      "P = 2: \n",
      " logL = 264.3661760330159\n",
      "P = 7: \n",
      " logL = -191.69629114234226\n"
     ]
    }
   ],
   "source": [
    "# calculate the log-likelihood for the new data under the ML parameter estimates obtained in (d) for P = 1,2 and 7\n",
    "function log_likelihood_for_specific_params(xvals, yvals, theta_hat)\n",
    "    P = length(theta_hat) - 1\n",
    "    N = length(yvals)\n",
    "    # estimates\n",
    "    y_hat = design_matrix(xvals, P) * theta_hat\n",
    "\n",
    "    # RSS\n",
    "    rss = sum((yvals .- y_hat).^2)\n",
    "\n",
    "    # sigma^2\n",
    "    sigma2_hat = rss / N\n",
    "    \n",
    "    # log-likelihood\n",
    "    logL = -N/2 * log(2*π*sigma2_hat) - (rss / (2*sigma2_hat))\n",
    "\n",
    "    return logL\n",
    "end\n",
    "\n",
    "for (P, (theta_hat, logL)) in zip(P_values, estimates)\n",
    "    println(\"P = $P: \\n logL = $(log_likelihood_for_specific_params(x_new, y_new, theta_hat))\")\n",
    "end"
   ]
  },
  {
   "cell_type": "markdown",
   "metadata": {},
   "source": [
    "Fitting the previous parameters to a wider range on the x-axis and a smaller step size one can observe the generelisability of the different models. The model with P=2 is not by far the most likely to have generated the data. P=7, which fit the noise quite well on a shorter scale is now a fairly bad model because outside the range of the previous data it deviates significantly from the original quadratic function. \n",
    "\n",
    "Plotting the graphs of the different fits and the newly generated data this can be seen fairly easily:"
   ]
  },
  {
   "cell_type": "code",
   "execution_count": 7,
   "metadata": {},
   "outputs": [
    {
     "data": {
      "image/png": "[encoded data removed]",
      "image/svg+xml": [
       "<?xml version=\"1.0\" encoding=\"utf-8\"?>\n",
       "<svg xmlns=\"http://www.w3.org/2000/svg\" xmlns:xlink=\"http://www.w3.org/1999/xlink\" width=\"600\" height=\"400\" viewBox=\"0 0 2400 1600\">\n",
       "<defs>\n",
       "  <clipPath id=\"clip870\">\n",
       "    <rect x=\"0\" y=\"0\" width=\"2400\" height=\"1600\"/>\n",
       "  </clipPath>\n",
       "</defs>\n",
       "<path clip-path=\"url(#clip870)\" d=\"M0 1600 L2400 1600 L2400 0 L0 0  Z\" fill=\"#ffffff\" fill-rule=\"evenodd\" fill-opacity=\"1\"/>\n",
       "<defs>\n",
       "  <clipPath id=\"clip871\">\n",
       "    <rect x=\"480\" y=\"0\" width=\"1681\" height=\"1600\"/>\n",
       "  </clipPath>\n",
       "</defs>\n",
       "<path clip-path=\"url(#clip870)\" d=\"M219.866 1423.18 L2352.76 1423.18 L2352.76 123.472 L219.866 123.472  Z\" fill=\"#ffffff\" fill-rule=\"evenodd\" fill-opacity=\"1\"/>\n",
       "<defs>\n",
       "  <clipPath id=\"clip872\">\n",
       "    <rect x=\"219\" y=\"123\" width=\"2134\" height=\"1301\"/>\n",
       "  </clipPath>\n",
       "</defs>\n",
       "<polyline clip-path=\"url(#clip872)\" style=\"stroke:#000000; stroke-linecap:round; stroke-linejoin:round; stroke-width:2; stroke-opacity:0.1; fill:none\" points=\"481.447,1423.18 481.447,123.472 \"/>\n",
       "<polyline clip-path=\"url(#clip872)\" style=\"stroke:#000000; stroke-linecap:round; stroke-linejoin:round; stroke-width:2; stroke-opacity:0.1; fill:none\" points=\"883.879,1423.18 883.879,123.472 \"/>\n",
       "<polyline clip-path=\"url(#clip872)\" style=\"stroke:#000000; stroke-linecap:round; stroke-linejoin:round; stroke-width:2; stroke-opacity:0.1; fill:none\" points=\"1286.31,1423.18 1286.31,123.472 \"/>\n",
       "<polyline clip-path=\"url(#clip872)\" style=\"stroke:#000000; stroke-linecap:round; stroke-linejoin:round; stroke-width:2; stroke-opacity:0.1; fill:none\" points=\"1688.74,1423.18 1688.74,123.472 \"/>\n",
       "<polyline clip-path=\"url(#clip872)\" style=\"stroke:#000000; stroke-linecap:round; stroke-linejoin:round; stroke-width:2; stroke-opacity:0.1; fill:none\" points=\"2091.18,1423.18 2091.18,123.472 \"/>\n",
       "<polyline clip-path=\"url(#clip872)\" style=\"stroke:#000000; stroke-linecap:round; stroke-linejoin:round; stroke-width:2; stroke-opacity:0.1; fill:none\" points=\"219.866,1423.18 2352.76,1423.18 \"/>\n",
       "<polyline clip-path=\"url(#clip872)\" style=\"stroke:#000000; stroke-linecap:round; stroke-linejoin:round; stroke-width:2; stroke-opacity:0.1; fill:none\" points=\"219.866,1163.24 2352.76,1163.24 \"/>\n",
       "<polyline clip-path=\"url(#clip872)\" style=\"stroke:#000000; stroke-linecap:round; stroke-linejoin:round; stroke-width:2; stroke-opacity:0.1; fill:none\" points=\"219.866,903.297 2352.76,903.297 \"/>\n",
       "<polyline clip-path=\"url(#clip872)\" style=\"stroke:#000000; stroke-linecap:round; stroke-linejoin:round; stroke-width:2; stroke-opacity:0.1; fill:none\" points=\"219.866,643.355 2352.76,643.355 \"/>\n",
       "<polyline clip-path=\"url(#clip872)\" style=\"stroke:#000000; stroke-linecap:round; stroke-linejoin:round; stroke-width:2; stroke-opacity:0.1; fill:none\" points=\"219.866,383.414 2352.76,383.414 \"/>\n",
       "<polyline clip-path=\"url(#clip872)\" style=\"stroke:#000000; stroke-linecap:round; stroke-linejoin:round; stroke-width:2; stroke-opacity:0.1; fill:none\" points=\"219.866,123.472 2352.76,123.472 \"/>\n",
       "<polyline clip-path=\"url(#clip870)\" style=\"stroke:#000000; stroke-linecap:round; stroke-linejoin:round; stroke-width:4; stroke-opacity:1; fill:none\" points=\"219.866,1423.18 2352.76,1423.18 \"/>\n",
       "<polyline clip-path=\"url(#clip870)\" style=\"stroke:#000000; stroke-linecap:round; stroke-linejoin:round; stroke-width:4; stroke-opacity:1; fill:none\" points=\"481.447,1423.18 481.447,1404.28 \"/>\n",
       "<polyline clip-path=\"url(#clip870)\" style=\"stroke:#000000; stroke-linecap:round; stroke-linejoin:round; stroke-width:4; stroke-opacity:1; fill:none\" points=\"883.879,1423.18 883.879,1404.28 \"/>\n",
       "<polyline clip-path=\"url(#clip870)\" style=\"stroke:#000000; stroke-linecap:round; stroke-linejoin:round; stroke-width:4; stroke-opacity:1; fill:none\" points=\"1286.31,1423.18 1286.31,1404.28 \"/>\n",
       "<polyline clip-path=\"url(#clip870)\" style=\"stroke:#000000; stroke-linecap:round; stroke-linejoin:round; stroke-width:4; stroke-opacity:1; fill:none\" points=\"1688.74,1423.18 1688.74,1404.28 \"/>\n",
       "<polyline clip-path=\"url(#clip870)\" style=\"stroke:#000000; stroke-linecap:round; stroke-linejoin:round; stroke-width:4; stroke-opacity:1; fill:none\" points=\"2091.18,1423.18 2091.18,1404.28 \"/>\n",
       "<path clip-path=\"url(#clip870)\" d=\"M427.732 1468.75 L457.408 1468.75 L457.408 1472.69 L427.732 1472.69 L427.732 1468.75 Z\" fill=\"#000000\" fill-rule=\"nonzero\" fill-opacity=\"1\" /><path clip-path=\"url(#clip870)\" d=\"M477.5 1454.1 Q473.889 1454.1 472.061 1457.66 Q470.255 1461.2 470.255 1468.33 Q470.255 1475.44 472.061 1479.01 Q473.889 1482.55 477.5 1482.55 Q481.135 1482.55 482.94 1479.01 Q484.769 1475.44 484.769 1468.33 Q484.769 1461.2 482.94 1457.66 Q481.135 1454.1 477.5 1454.1 M477.5 1450.39 Q483.31 1450.39 486.366 1455 Q489.445 1459.58 489.445 1468.33 Q489.445 1477.06 486.366 1481.67 Q483.31 1486.25 477.5 1486.25 Q471.69 1486.25 468.611 1481.67 Q465.556 1477.06 465.556 1468.33 Q465.556 1459.58 468.611 1455 Q471.69 1450.39 477.5 1450.39 Z\" fill=\"#000000\" fill-rule=\"nonzero\" fill-opacity=\"1\" /><path clip-path=\"url(#clip870)\" d=\"M497.662 1479.7 L502.546 1479.7 L502.546 1485.58 L497.662 1485.58 L497.662 1479.7 Z\" fill=\"#000000\" fill-rule=\"nonzero\" fill-opacity=\"1\" /><path clip-path=\"url(#clip870)\" d=\"M525.579 1455.09 L513.773 1473.54 L525.579 1473.54 L525.579 1455.09 M524.352 1451.02 L530.232 1451.02 L530.232 1473.54 L535.162 1473.54 L535.162 1477.43 L530.232 1477.43 L530.232 1485.58 L525.579 1485.58 L525.579 1477.43 L509.977 1477.43 L509.977 1472.92 L524.352 1451.02 Z\" fill=\"#000000\" fill-rule=\"nonzero\" fill-opacity=\"1\" /><path clip-path=\"url(#clip870)\" d=\"M831.206 1468.75 L860.882 1468.75 L860.882 1472.69 L831.206 1472.69 L831.206 1468.75 Z\" fill=\"#000000\" fill-rule=\"nonzero\" fill-opacity=\"1\" /><path clip-path=\"url(#clip870)\" d=\"M880.974 1454.1 Q877.363 1454.1 875.534 1457.66 Q873.729 1461.2 873.729 1468.33 Q873.729 1475.44 875.534 1479.01 Q877.363 1482.55 880.974 1482.55 Q884.608 1482.55 886.414 1479.01 Q888.242 1475.44 888.242 1468.33 Q888.242 1461.2 886.414 1457.66 Q884.608 1454.1 880.974 1454.1 M880.974 1450.39 Q886.784 1450.39 889.84 1455 Q892.918 1459.58 892.918 1468.33 Q892.918 1477.06 889.84 1481.67 Q886.784 1486.25 880.974 1486.25 Q875.164 1486.25 872.085 1481.67 Q869.03 1477.06 869.03 1468.33 Q869.03 1459.58 872.085 1455 Q875.164 1450.39 880.974 1450.39 Z\" fill=\"#000000\" fill-rule=\"nonzero\" fill-opacity=\"1\" /><path clip-path=\"url(#clip870)\" d=\"M901.136 1479.7 L906.02 1479.7 L906.02 1485.58 L901.136 1485.58 L901.136 1479.7 Z\" fill=\"#000000\" fill-rule=\"nonzero\" fill-opacity=\"1\" /><path clip-path=\"url(#clip870)\" d=\"M920.233 1481.64 L936.552 1481.64 L936.552 1485.58 L914.608 1485.58 L914.608 1481.64 Q917.27 1478.89 921.853 1474.26 Q926.46 1469.61 927.64 1468.27 Q929.886 1465.74 930.765 1464.01 Q931.668 1462.25 931.668 1460.56 Q931.668 1457.8 929.724 1456.07 Q927.802 1454.33 924.701 1454.33 Q922.502 1454.33 920.048 1455.09 Q917.617 1455.86 914.84 1457.41 L914.84 1452.69 Q917.664 1451.55 920.117 1450.97 Q922.571 1450.39 924.608 1450.39 Q929.978 1450.39 933.173 1453.08 Q936.367 1455.77 936.367 1460.26 Q936.367 1462.39 935.557 1464.31 Q934.77 1466.2 932.664 1468.8 Q932.085 1469.47 928.983 1472.69 Q925.881 1475.88 920.233 1481.64 Z\" fill=\"#000000\" fill-rule=\"nonzero\" fill-opacity=\"1\" /><path clip-path=\"url(#clip870)\" d=\"M1263.7 1454.1 Q1260.08 1454.1 1258.26 1457.66 Q1256.45 1461.2 1256.45 1468.33 Q1256.45 1475.44 1258.26 1479.01 Q1260.08 1482.55 1263.7 1482.55 Q1267.33 1482.55 1269.14 1479.01 Q1270.96 1475.44 1270.96 1468.33 Q1270.96 1461.2 1269.14 1457.66 Q1267.33 1454.1 1263.7 1454.1 M1263.7 1450.39 Q1269.51 1450.39 1272.56 1455 Q1275.64 1459.58 1275.64 1468.33 Q1275.64 1477.06 1272.56 1481.67 Q1269.51 1486.25 1263.7 1486.25 Q1257.89 1486.25 1254.81 1481.67 Q1251.75 1477.06 1251.75 1468.33 Q1251.75 1459.58 1254.81 1455 Q1257.89 1450.39 1263.7 1450.39 Z\" fill=\"#000000\" fill-rule=\"nonzero\" fill-opacity=\"1\" /><path clip-path=\"url(#clip870)\" d=\"M1283.86 1479.7 L1288.74 1479.7 L1288.74 1485.58 L1283.86 1485.58 L1283.86 1479.7 Z\" fill=\"#000000\" fill-rule=\"nonzero\" fill-opacity=\"1\" /><path clip-path=\"url(#clip870)\" d=\"M1308.93 1454.1 Q1305.32 1454.1 1303.49 1457.66 Q1301.68 1461.2 1301.68 1468.33 Q1301.68 1475.44 1303.49 1479.01 Q1305.32 1482.55 1308.93 1482.55 Q1312.56 1482.55 1314.37 1479.01 Q1316.2 1475.44 1316.2 1468.33 Q1316.2 1461.2 1314.37 1457.66 Q1312.56 1454.1 1308.93 1454.1 M1308.93 1450.39 Q1314.74 1450.39 1317.79 1455 Q1320.87 1459.58 1320.87 1468.33 Q1320.87 1477.06 1317.79 1481.67 Q1314.74 1486.25 1308.93 1486.25 Q1303.12 1486.25 1300.04 1481.67 Q1296.98 1477.06 1296.98 1468.33 Q1296.98 1459.58 1300.04 1455 Q1303.12 1450.39 1308.93 1450.39 Z\" fill=\"#000000\" fill-rule=\"nonzero\" fill-opacity=\"1\" /><path clip-path=\"url(#clip870)\" d=\"M1666.93 1454.1 Q1663.31 1454.1 1661.49 1457.66 Q1659.68 1461.2 1659.68 1468.33 Q1659.68 1475.44 1661.49 1479.01 Q1663.31 1482.55 1666.93 1482.55 Q1670.56 1482.55 1672.37 1479.01 Q1674.19 1475.44 1674.19 1468.33 Q1674.19 1461.2 1672.37 1457.66 Q1670.56 1454.1 1666.93 1454.1 M1666.93 1450.39 Q1672.74 1450.39 1675.79 1455 Q1678.87 1459.58 1678.87 1468.33 Q1678.87 1477.06 1675.79 1481.67 Q1672.74 1486.25 1666.93 1486.25 Q1661.12 1486.25 1658.04 1481.67 Q1654.98 1477.06 1654.98 1468.33 Q1654.98 1459.58 1658.04 1455 Q1661.12 1450.39 1666.93 1450.39 Z\" fill=\"#000000\" fill-rule=\"nonzero\" fill-opacity=\"1\" /><path clip-path=\"url(#clip870)\" d=\"M1687.09 1479.7 L1691.97 1479.7 L1691.97 1485.58 L1687.09 1485.58 L1687.09 1479.7 Z\" fill=\"#000000\" fill-rule=\"nonzero\" fill-opacity=\"1\" /><path clip-path=\"url(#clip870)\" d=\"M1706.19 1481.64 L1722.5 1481.64 L1722.5 1485.58 L1700.56 1485.58 L1700.56 1481.64 Q1703.22 1478.89 1707.81 1474.26 Q1712.41 1469.61 1713.59 1468.27 Q1715.84 1465.74 1716.72 1464.01 Q1717.62 1462.25 1717.62 1460.56 Q1717.62 1457.8 1715.68 1456.07 Q1713.75 1454.33 1710.65 1454.33 Q1708.45 1454.33 1706 1455.09 Q1703.57 1455.86 1700.79 1457.41 L1700.79 1452.69 Q1703.62 1451.55 1706.07 1450.97 Q1708.52 1450.39 1710.56 1450.39 Q1715.93 1450.39 1719.12 1453.08 Q1722.32 1455.77 1722.32 1460.26 Q1722.32 1462.39 1721.51 1464.31 Q1720.72 1466.2 1718.62 1468.8 Q1718.04 1469.47 1714.94 1472.69 Q1711.83 1475.88 1706.19 1481.64 Z\" fill=\"#000000\" fill-rule=\"nonzero\" fill-opacity=\"1\" /><path clip-path=\"url(#clip870)\" d=\"M2068.32 1454.1 Q2064.71 1454.1 2062.88 1457.66 Q2061.07 1461.2 2061.07 1468.33 Q2061.07 1475.44 2062.88 1479.01 Q2064.71 1482.55 2068.32 1482.55 Q2071.95 1482.55 2073.76 1479.01 Q2075.58 1475.44 2075.58 1468.33 Q2075.58 1461.2 2073.76 1457.66 Q2071.95 1454.1 2068.32 1454.1 M2068.32 1450.39 Q2074.13 1450.39 2077.18 1455 Q2080.26 1459.58 2080.26 1468.33 Q2080.26 1477.06 2077.18 1481.67 Q2074.13 1486.25 2068.32 1486.25 Q2062.51 1486.25 2059.43 1481.67 Q2056.37 1477.06 2056.37 1468.33 Q2056.37 1459.58 2059.43 1455 Q2062.51 1450.39 2068.32 1450.39 Z\" fill=\"#000000\" fill-rule=\"nonzero\" fill-opacity=\"1\" /><path clip-path=\"url(#clip870)\" d=\"M2088.48 1479.7 L2093.36 1479.7 L2093.36 1485.58 L2088.48 1485.58 L2088.48 1479.7 Z\" fill=\"#000000\" fill-rule=\"nonzero\" fill-opacity=\"1\" /><path clip-path=\"url(#clip870)\" d=\"M2116.39 1455.09 L2104.59 1473.54 L2116.39 1473.54 L2116.39 1455.09 M2115.17 1451.02 L2121.05 1451.02 L2121.05 1473.54 L2125.98 1473.54 L2125.98 1477.43 L2121.05 1477.43 L2121.05 1485.58 L2116.39 1485.58 L2116.39 1477.43 L2100.79 1477.43 L2100.79 1472.92 L2115.17 1451.02 Z\" fill=\"#000000\" fill-rule=\"nonzero\" fill-opacity=\"1\" /><path clip-path=\"url(#clip870)\" d=\"M1302.93 1532.4 L1290.04 1549.74 L1303.59 1568.04 L1296.69 1568.04 L1286.31 1554.04 L1275.93 1568.04 L1269.03 1568.04 L1282.87 1549.39 L1270.21 1532.4 L1277.11 1532.4 L1286.57 1545.1 L1296.02 1532.4 L1302.93 1532.4 Z\" fill=\"#000000\" fill-rule=\"nonzero\" fill-opacity=\"1\" /><polyline clip-path=\"url(#clip870)\" style=\"stroke:#000000; stroke-linecap:round; stroke-linejoin:round; stroke-width:4; stroke-opacity:1; fill:none\" points=\"219.866,1423.18 219.866,123.472 \"/>\n",
       "<polyline clip-path=\"url(#clip870)\" style=\"stroke:#000000; stroke-linecap:round; stroke-linejoin:round; stroke-width:4; stroke-opacity:1; fill:none\" points=\"219.866,1423.18 238.764,1423.18 \"/>\n",
       "<polyline clip-path=\"url(#clip870)\" style=\"stroke:#000000; stroke-linecap:round; stroke-linejoin:round; stroke-width:4; stroke-opacity:1; fill:none\" points=\"219.866,1163.24 238.764,1163.24 \"/>\n",
       "<polyline clip-path=\"url(#clip870)\" style=\"stroke:#000000; stroke-linecap:round; stroke-linejoin:round; stroke-width:4; stroke-opacity:1; fill:none\" points=\"219.866,903.297 238.764,903.297 \"/>\n",
       "<polyline clip-path=\"url(#clip870)\" style=\"stroke:#000000; stroke-linecap:round; stroke-linejoin:round; stroke-width:4; stroke-opacity:1; fill:none\" points=\"219.866,643.355 238.764,643.355 \"/>\n",
       "<polyline clip-path=\"url(#clip870)\" style=\"stroke:#000000; stroke-linecap:round; stroke-linejoin:round; stroke-width:4; stroke-opacity:1; fill:none\" points=\"219.866,383.414 238.764,383.414 \"/>\n",
       "<polyline clip-path=\"url(#clip870)\" style=\"stroke:#000000; stroke-linecap:round; stroke-linejoin:round; stroke-width:4; stroke-opacity:1; fill:none\" points=\"219.866,123.472 238.764,123.472 \"/>\n",
       "<path clip-path=\"url(#clip870)\" d=\"M126.691 1408.98 Q123.08 1408.98 121.251 1412.54 Q119.445 1416.08 119.445 1423.21 Q119.445 1430.32 121.251 1433.89 Q123.08 1437.43 126.691 1437.43 Q130.325 1437.43 132.13 1433.89 Q133.959 1430.32 133.959 1423.21 Q133.959 1416.08 132.13 1412.54 Q130.325 1408.98 126.691 1408.98 M126.691 1405.27 Q132.501 1405.27 135.556 1409.88 Q138.635 1414.46 138.635 1423.21 Q138.635 1431.94 135.556 1436.55 Q132.501 1441.13 126.691 1441.13 Q120.88 1441.13 117.802 1436.55 Q114.746 1431.94 114.746 1423.21 Q114.746 1414.46 117.802 1409.88 Q120.88 1405.27 126.691 1405.27 Z\" fill=\"#000000\" fill-rule=\"nonzero\" fill-opacity=\"1\" /><path clip-path=\"url(#clip870)\" d=\"M146.853 1434.58 L151.737 1434.58 L151.737 1440.46 L146.853 1440.46 L146.853 1434.58 Z\" fill=\"#000000\" fill-rule=\"nonzero\" fill-opacity=\"1\" /><path clip-path=\"url(#clip870)\" d=\"M171.922 1408.98 Q168.311 1408.98 166.482 1412.54 Q164.677 1416.08 164.677 1423.21 Q164.677 1430.32 166.482 1433.89 Q168.311 1437.43 171.922 1437.43 Q175.556 1437.43 177.362 1433.89 Q179.19 1430.32 179.19 1423.21 Q179.19 1416.08 177.362 1412.54 Q175.556 1408.98 171.922 1408.98 M171.922 1405.27 Q177.732 1405.27 180.788 1409.88 Q183.866 1414.46 183.866 1423.21 Q183.866 1431.94 180.788 1436.55 Q177.732 1441.13 171.922 1441.13 Q166.112 1441.13 163.033 1436.55 Q159.978 1431.94 159.978 1423.21 Q159.978 1414.46 163.033 1409.88 Q166.112 1405.27 171.922 1405.27 Z\" fill=\"#000000\" fill-rule=\"nonzero\" fill-opacity=\"1\" /><path clip-path=\"url(#clip870)\" d=\"M128.288 1149.04 Q124.677 1149.04 122.848 1152.6 Q121.043 1156.14 121.043 1163.27 Q121.043 1170.38 122.848 1173.94 Q124.677 1177.49 128.288 1177.49 Q131.922 1177.49 133.728 1173.94 Q135.556 1170.38 135.556 1163.27 Q135.556 1156.14 133.728 1152.6 Q131.922 1149.04 128.288 1149.04 M128.288 1145.33 Q134.098 1145.33 137.154 1149.94 Q140.232 1154.52 140.232 1163.27 Q140.232 1172 137.154 1176.61 Q134.098 1181.19 128.288 1181.19 Q122.478 1181.19 119.399 1176.61 Q116.343 1172 116.343 1163.27 Q116.343 1154.52 119.399 1149.94 Q122.478 1145.33 128.288 1145.33 Z\" fill=\"#000000\" fill-rule=\"nonzero\" fill-opacity=\"1\" /><path clip-path=\"url(#clip870)\" d=\"M148.45 1174.64 L153.334 1174.64 L153.334 1180.52 L148.45 1180.52 L148.45 1174.64 Z\" fill=\"#000000\" fill-rule=\"nonzero\" fill-opacity=\"1\" /><path clip-path=\"url(#clip870)\" d=\"M167.547 1176.58 L183.866 1176.58 L183.866 1180.52 L161.922 1180.52 L161.922 1176.58 Q164.584 1173.83 169.167 1169.2 Q173.774 1164.55 174.954 1163.2 Q177.2 1160.68 178.079 1158.94 Q178.982 1157.19 178.982 1155.5 Q178.982 1152.74 177.038 1151 Q175.116 1149.27 172.014 1149.27 Q169.815 1149.27 167.362 1150.03 Q164.931 1150.8 162.153 1152.35 L162.153 1147.62 Q164.977 1146.49 167.431 1145.91 Q169.885 1145.33 171.922 1145.33 Q177.292 1145.33 180.487 1148.02 Q183.681 1150.7 183.681 1155.19 Q183.681 1157.32 182.871 1159.25 Q182.084 1161.14 179.977 1163.74 Q179.399 1164.41 176.297 1167.62 Q173.195 1170.82 167.547 1176.58 Z\" fill=\"#000000\" fill-rule=\"nonzero\" fill-opacity=\"1\" /><path clip-path=\"url(#clip870)\" d=\"M126.205 889.095 Q122.593 889.095 120.765 892.66 Q118.959 896.202 118.959 903.331 Q118.959 910.438 120.765 914.003 Q122.593 917.544 126.205 917.544 Q129.839 917.544 131.644 914.003 Q133.473 910.438 133.473 903.331 Q133.473 896.202 131.644 892.66 Q129.839 889.095 126.205 889.095 M126.205 885.392 Q132.015 885.392 135.07 889.998 Q138.149 894.582 138.149 903.331 Q138.149 912.058 135.07 916.665 Q132.015 921.248 126.205 921.248 Q120.394 921.248 117.316 916.665 Q114.26 912.058 114.26 903.331 Q114.26 894.582 117.316 889.998 Q120.394 885.392 126.205 885.392 Z\" fill=\"#000000\" fill-rule=\"nonzero\" fill-opacity=\"1\" /><path clip-path=\"url(#clip870)\" d=\"M146.366 914.697 L151.251 914.697 L151.251 920.577 L146.366 920.577 L146.366 914.697 Z\" fill=\"#000000\" fill-rule=\"nonzero\" fill-opacity=\"1\" /><path clip-path=\"url(#clip870)\" d=\"M174.283 890.091 L162.477 908.54 L174.283 908.54 L174.283 890.091 M173.056 886.017 L178.936 886.017 L178.936 908.54 L183.866 908.54 L183.866 912.429 L178.936 912.429 L178.936 920.577 L174.283 920.577 L174.283 912.429 L158.681 912.429 L158.681 907.915 L173.056 886.017 Z\" fill=\"#000000\" fill-rule=\"nonzero\" fill-opacity=\"1\" /><path clip-path=\"url(#clip870)\" d=\"M126.529 629.154 Q122.918 629.154 121.089 632.719 Q119.283 636.26 119.283 643.39 Q119.283 650.496 121.089 654.061 Q122.918 657.603 126.529 657.603 Q130.163 657.603 131.968 654.061 Q133.797 650.496 133.797 643.39 Q133.797 636.26 131.968 632.719 Q130.163 629.154 126.529 629.154 M126.529 625.45 Q132.339 625.45 135.394 630.057 Q138.473 634.64 138.473 643.39 Q138.473 652.117 135.394 656.723 Q132.339 661.307 126.529 661.307 Q120.718 661.307 117.64 656.723 Q114.584 652.117 114.584 643.39 Q114.584 634.64 117.64 630.057 Q120.718 625.45 126.529 625.45 Z\" fill=\"#000000\" fill-rule=\"nonzero\" fill-opacity=\"1\" /><path clip-path=\"url(#clip870)\" d=\"M146.691 654.756 L151.575 654.756 L151.575 660.635 L146.691 660.635 L146.691 654.756 Z\" fill=\"#000000\" fill-rule=\"nonzero\" fill-opacity=\"1\" /><path clip-path=\"url(#clip870)\" d=\"M172.339 641.492 Q169.19 641.492 167.339 643.645 Q165.51 645.797 165.51 649.547 Q165.51 653.274 167.339 655.45 Q169.19 657.603 172.339 657.603 Q175.487 657.603 177.315 655.45 Q179.167 653.274 179.167 649.547 Q179.167 645.797 177.315 643.645 Q175.487 641.492 172.339 641.492 M181.621 626.839 L181.621 631.098 Q179.862 630.265 178.056 629.825 Q176.274 629.385 174.514 629.385 Q169.885 629.385 167.431 632.51 Q165.001 635.635 164.653 641.955 Q166.019 639.941 168.079 638.876 Q170.139 637.788 172.616 637.788 Q177.825 637.788 180.834 640.959 Q183.866 644.108 183.866 649.547 Q183.866 654.871 180.718 658.089 Q177.57 661.307 172.339 661.307 Q166.343 661.307 163.172 656.723 Q160.001 652.117 160.001 643.39 Q160.001 635.196 163.89 630.334 Q167.778 625.45 174.329 625.45 Q176.089 625.45 177.871 625.797 Q179.676 626.145 181.621 626.839 Z\" fill=\"#000000\" fill-rule=\"nonzero\" fill-opacity=\"1\" /><path clip-path=\"url(#clip870)\" d=\"M126.783 369.212 Q123.172 369.212 121.343 372.777 Q119.538 376.319 119.538 383.448 Q119.538 390.555 121.343 394.12 Q123.172 397.661 126.783 397.661 Q130.417 397.661 132.223 394.12 Q134.052 390.555 134.052 383.448 Q134.052 376.319 132.223 372.777 Q130.417 369.212 126.783 369.212 M126.783 365.509 Q132.593 365.509 135.649 370.115 Q138.728 374.698 138.728 383.448 Q138.728 392.175 135.649 396.782 Q132.593 401.365 126.783 401.365 Q120.973 401.365 117.894 396.782 Q114.839 392.175 114.839 383.448 Q114.839 374.698 117.894 370.115 Q120.973 365.509 126.783 365.509 Z\" fill=\"#000000\" fill-rule=\"nonzero\" fill-opacity=\"1\" /><path clip-path=\"url(#clip870)\" d=\"M146.945 394.814 L151.829 394.814 L151.829 400.694 L146.945 400.694 L146.945 394.814 Z\" fill=\"#000000\" fill-rule=\"nonzero\" fill-opacity=\"1\" /><path clip-path=\"url(#clip870)\" d=\"M172.014 384.282 Q168.681 384.282 166.76 386.064 Q164.862 387.847 164.862 390.971 Q164.862 394.096 166.76 395.879 Q168.681 397.661 172.014 397.661 Q175.348 397.661 177.269 395.879 Q179.19 394.073 179.19 390.971 Q179.19 387.847 177.269 386.064 Q175.371 384.282 172.014 384.282 M167.339 382.291 Q164.329 381.55 162.64 379.49 Q160.973 377.43 160.973 374.467 Q160.973 370.323 163.913 367.916 Q166.876 365.509 172.014 365.509 Q177.176 365.509 180.116 367.916 Q183.056 370.323 183.056 374.467 Q183.056 377.43 181.366 379.49 Q179.7 381.55 176.714 382.291 Q180.093 383.078 181.968 385.37 Q183.866 387.661 183.866 390.971 Q183.866 395.995 180.788 398.68 Q177.732 401.365 172.014 401.365 Q166.297 401.365 163.218 398.68 Q160.163 395.995 160.163 390.971 Q160.163 387.661 162.061 385.37 Q163.959 383.078 167.339 382.291 M165.626 374.907 Q165.626 377.592 167.292 379.097 Q168.982 380.601 172.014 380.601 Q175.024 380.601 176.714 379.097 Q178.426 377.592 178.426 374.907 Q178.426 372.222 176.714 370.717 Q175.024 369.212 172.014 369.212 Q168.982 369.212 167.292 370.717 Q165.626 372.222 165.626 374.907 Z\" fill=\"#000000\" fill-rule=\"nonzero\" fill-opacity=\"1\" /><path clip-path=\"url(#clip870)\" d=\"M117.501 136.817 L125.14 136.817 L125.14 110.451 L116.83 112.118 L116.83 107.859 L125.093 106.192 L129.769 106.192 L129.769 136.817 L137.408 136.817 L137.408 140.752 L117.501 140.752 L117.501 136.817 Z\" fill=\"#000000\" fill-rule=\"nonzero\" fill-opacity=\"1\" /><path clip-path=\"url(#clip870)\" d=\"M146.853 134.873 L151.737 134.873 L151.737 140.752 L146.853 140.752 L146.853 134.873 Z\" fill=\"#000000\" fill-rule=\"nonzero\" fill-opacity=\"1\" /><path clip-path=\"url(#clip870)\" d=\"M171.922 109.271 Q168.311 109.271 166.482 112.836 Q164.677 116.377 164.677 123.507 Q164.677 130.613 166.482 134.178 Q168.311 137.72 171.922 137.72 Q175.556 137.72 177.362 134.178 Q179.19 130.613 179.19 123.507 Q179.19 116.377 177.362 112.836 Q175.556 109.271 171.922 109.271 M171.922 105.567 Q177.732 105.567 180.788 110.174 Q183.866 114.757 183.866 123.507 Q183.866 132.234 180.788 136.84 Q177.732 141.423 171.922 141.423 Q166.112 141.423 163.033 136.84 Q159.978 132.234 159.978 123.507 Q159.978 114.757 163.033 110.174 Q166.112 105.567 171.922 105.567 Z\" fill=\"#000000\" fill-rule=\"nonzero\" fill-opacity=\"1\" /><path clip-path=\"url(#clip870)\" d=\"M67.3143 771.639 Q73.68 774.122 75.6216 776.477 Q77.5631 778.832 77.5631 782.779 L77.5631 787.458 L72.6615 787.458 L72.6615 784.02 Q72.6615 781.601 71.5157 780.265 Q70.3699 778.928 66.1048 777.305 L63.4312 776.254 L28.3562 790.673 L28.3562 784.466 L56.238 773.326 L28.3562 762.186 L28.3562 755.979 L67.3143 771.639 Z\" fill=\"#000000\" fill-rule=\"nonzero\" fill-opacity=\"1\" /><path clip-path=\"url(#clip870)\" d=\"M1203.29 18.8205 L1203.29 65.8515 L1213.17 65.8515 Q1225.69 65.8515 1231.48 60.1802 Q1237.32 54.509 1237.32 42.2752 Q1237.32 30.1225 1231.48 24.4918 Q1225.69 18.8205 1213.17 18.8205 L1203.29 18.8205 M1195.1 12.096 L1211.92 12.096 Q1229.5 12.096 1237.72 19.4281 Q1245.94 26.7198 1245.94 42.2752 Q1245.94 57.9117 1237.68 65.2439 Q1229.42 72.576 1211.92 72.576 L1195.1 72.576 L1195.1 12.096 Z\" fill=\"#000000\" fill-rule=\"nonzero\" fill-opacity=\"1\" /><path clip-path=\"url(#clip870)\" d=\"M1279.28 49.7694 Q1270.25 49.7694 1266.77 51.8354 Q1263.28 53.9013 1263.28 58.8839 Q1263.28 62.8538 1265.87 65.2034 Q1268.51 67.5124 1273 67.5124 Q1279.2 67.5124 1282.93 63.1374 Q1286.7 58.7219 1286.7 51.4303 L1286.7 49.7694 L1279.28 49.7694 M1294.15 46.6907 L1294.15 72.576 L1286.7 72.576 L1286.7 65.6895 Q1284.14 69.8214 1280.34 71.8063 Q1276.53 73.7508 1271.02 73.7508 Q1264.05 73.7508 1259.92 69.8619 Q1255.83 65.9325 1255.83 59.3701 Q1255.83 51.7138 1260.93 47.825 Q1266.08 43.9361 1276.24 43.9361 L1286.7 43.9361 L1286.7 43.2069 Q1286.7 38.0623 1283.29 35.2672 Q1279.93 32.4315 1273.81 32.4315 Q1269.93 32.4315 1266.24 33.3632 Q1262.55 34.295 1259.15 36.1584 L1259.15 29.2718 Q1263.24 27.692 1267.09 26.9223 Q1270.94 26.1121 1274.58 26.1121 Q1284.43 26.1121 1289.29 31.2163 Q1294.15 36.3204 1294.15 46.6907 Z\" fill=\"#000000\" fill-rule=\"nonzero\" fill-opacity=\"1\" /><path clip-path=\"url(#clip870)\" d=\"M1316.88 14.324 L1316.88 27.2059 L1332.23 27.2059 L1332.23 32.9987 L1316.88 32.9987 L1316.88 57.6282 Q1316.88 63.1779 1318.37 64.7578 Q1319.91 66.3376 1324.57 66.3376 L1332.23 66.3376 L1332.23 72.576 L1324.57 72.576 Q1315.94 72.576 1312.66 69.3758 Q1309.38 66.1351 1309.38 57.6282 L1309.38 32.9987 L1303.91 32.9987 L1303.91 27.2059 L1309.38 27.2059 L1309.38 14.324 L1316.88 14.324 Z\" fill=\"#000000\" fill-rule=\"nonzero\" fill-opacity=\"1\" /><path clip-path=\"url(#clip870)\" d=\"M1362.65 49.7694 Q1353.62 49.7694 1350.13 51.8354 Q1346.65 53.9013 1346.65 58.8839 Q1346.65 62.8538 1349.24 65.2034 Q1351.87 67.5124 1356.37 67.5124 Q1362.57 67.5124 1366.3 63.1374 Q1370.06 58.7219 1370.06 51.4303 L1370.06 49.7694 L1362.65 49.7694 M1377.52 46.6907 L1377.52 72.576 L1370.06 72.576 L1370.06 65.6895 Q1367.51 69.8214 1363.7 71.8063 Q1359.9 73.7508 1354.39 73.7508 Q1347.42 73.7508 1343.29 69.8619 Q1339.2 65.9325 1339.2 59.3701 Q1339.2 51.7138 1344.3 47.825 Q1349.44 43.9361 1359.61 43.9361 L1370.06 43.9361 L1370.06 43.2069 Q1370.06 38.0623 1366.66 35.2672 Q1363.3 32.4315 1357.18 32.4315 Q1353.29 32.4315 1349.61 33.3632 Q1345.92 34.295 1342.52 36.1584 L1342.52 29.2718 Q1346.61 27.692 1350.46 26.9223 Q1354.31 26.1121 1357.95 26.1121 Q1367.8 26.1121 1372.66 31.2163 Q1377.52 36.3204 1377.52 46.6907 Z\" fill=\"#000000\" fill-rule=\"nonzero\" fill-opacity=\"1\" /><polyline clip-path=\"url(#clip872)\" style=\"stroke:#009af9; stroke-linecap:round; stroke-linejoin:round; stroke-width:4; stroke-opacity:1; fill:none\" points=\"280.231,810.541 300.353,810.28 320.474,825.249 340.596,832.674 360.717,825.362 380.839,836.989 400.961,861.44 421.082,876.319 441.204,891.526 461.325,870.17 481.447,888.03 501.569,872.815 521.69,884.4 541.812,901.353 561.933,895.536 582.055,889.361 602.177,915.164 622.298,936.148 642.42,908.092 662.541,931.781 682.663,953.762 702.785,959.931 722.906,929.018 743.028,921.346 763.149,935.888 783.271,951.726 803.393,952.946 823.514,965.304 843.636,958.878 863.757,968.687 883.879,979.053 904.001,970.558 924.122,963.853 944.244,981.986 964.365,1000.85 984.487,1004.87 1004.61,994.148 1024.73,1006.29 1044.85,1018.44 1064.97,1022.53 1085.1,1010.6 1105.22,1012.12 1125.34,1034.69 1145.46,1023.13 1165.58,1025.35 1185.7,1035.74 1205.82,1038.73 1225.95,1031.29 1246.07,1043.38 1266.19,1051.93 1286.31,1041.32 1306.43,1026.24 1326.55,1041.83 1346.68,1023.65 1366.8,1033.13 1386.92,1033.24 1407.04,1061.25 1427.16,1050.97 1447.28,1009.34 1467.41,1039.39 1487.53,1023.84 1507.65,1022.75 1527.77,1045.23 1547.89,1062.32 1568.01,1026.27 1588.14,1053.39 1608.26,1030.39 1628.38,1064.2 1648.5,1041.99 1668.62,1041.58 1688.74,1046.93 1708.86,1041.21 1728.99,1018.32 1749.11,1029.2 1769.23,1038.62 1789.35,1013.25 1809.47,1043.87 1829.59,1026.89 1849.72,1018.13 1869.84,1026.6 1889.96,1008.92 1910.08,1029.36 1930.2,1024.36 1950.32,1007.02 1970.45,1012.55 1990.57,1004.45 2010.69,1018.28 2030.81,985.151 2050.93,993.905 2071.05,988.373 2091.18,967.998 2111.3,977.327 2131.42,992.727 2151.54,965.58 2171.66,978.434 2191.78,946.689 2211.9,958.23 2232.03,954.84 2252.15,946.453 2272.27,939.562 2292.39,948.338 \"/>\n",
       "<polyline clip-path=\"url(#clip872)\" style=\"stroke:#e26f46; stroke-linecap:round; stroke-linejoin:round; stroke-width:4; stroke-opacity:1; fill:none\" points=\"280.231,848.885 300.353,852.286 320.474,855.687 340.596,859.088 360.717,862.489 380.839,865.89 400.961,869.29 421.082,872.691 441.204,876.092 461.325,879.493 481.447,882.894 501.569,886.295 521.69,889.695 541.812,893.096 561.933,896.497 582.055,899.898 602.177,903.299 622.298,906.7 642.42,910.1 662.541,913.501 682.663,916.902 702.785,920.303 722.906,923.704 743.028,927.104 763.149,930.505 783.271,933.906 803.393,937.307 823.514,940.708 843.636,944.109 863.757,947.509 883.879,950.91 904.001,954.311 924.122,957.712 944.244,961.113 964.365,964.514 984.487,967.914 1004.61,971.315 1024.73,974.716 1044.85,978.117 1064.97,981.518 1085.1,984.919 1105.22,988.319 1125.34,991.72 1145.46,995.121 1165.58,998.522 1185.7,1001.92 1205.82,1005.32 1225.95,1008.72 1246.07,1012.13 1266.19,1015.53 1286.31,1018.93 1306.43,1022.33 1326.55,1025.73 1346.68,1029.13 1366.8,1032.53 1386.92,1035.93 1407.04,1039.33 1427.16,1042.73 1447.28,1046.13 1467.41,1049.53 1487.53,1052.94 1507.65,1056.34 1527.77,1059.74 1547.89,1063.14 1568.01,1066.54 1588.14,1069.94 1608.26,1073.34 1628.38,1076.74 1648.5,1080.14 1668.62,1083.54 1688.74,1086.94 1708.86,1090.34 1728.99,1093.75 1749.11,1097.15 1769.23,1100.55 1789.35,1103.95 1809.47,1107.35 1829.59,1110.75 1849.72,1114.15 1869.84,1117.55 1889.96,1120.95 1910.08,1124.35 1930.2,1127.75 1950.32,1131.15 1970.45,1134.56 1990.57,1137.96 2010.69,1141.36 2030.81,1144.76 2050.93,1148.16 2071.05,1151.56 2091.18,1154.96 2111.3,1158.36 2131.42,1161.76 2151.54,1165.16 2171.66,1168.56 2191.78,1171.96 2211.9,1175.36 2232.03,1178.77 2252.15,1182.17 2272.27,1185.57 2292.39,1188.97 \"/>\n",
       "<polyline clip-path=\"url(#clip872)\" style=\"stroke:#3da44d; stroke-linecap:round; stroke-linejoin:round; stroke-width:4; stroke-opacity:1; fill:none\" points=\"280.231,812.302 300.353,819.309 320.474,826.212 340.596,833.009 360.717,839.703 380.839,846.292 400.961,852.776 421.082,859.155 441.204,865.431 461.325,871.601 481.447,877.668 501.569,883.629 521.69,889.486 541.812,895.239 561.933,900.887 582.055,906.431 602.177,911.87 622.298,917.204 642.42,922.434 662.541,927.56 682.663,932.58 702.785,937.497 722.906,942.309 743.028,947.016 763.149,951.619 783.271,956.117 803.393,960.511 823.514,964.8 843.636,968.985 863.757,973.065 883.879,977.041 904.001,980.912 924.122,984.679 944.244,988.341 964.365,991.899 984.487,995.352 1004.61,998.7 1024.73,1001.94 1044.85,1005.08 1064.97,1008.12 1085.1,1011.05 1105.22,1013.88 1125.34,1016.6 1145.46,1019.21 1165.58,1021.73 1185.7,1024.13 1205.82,1026.44 1225.95,1028.64 1246.07,1030.73 1266.19,1032.72 1286.31,1034.61 1306.43,1036.39 1326.55,1038.06 1346.68,1039.63 1366.8,1041.1 1386.92,1042.46 1407.04,1043.72 1427.16,1044.88 1447.28,1045.92 1467.41,1046.87 1487.53,1047.71 1507.65,1048.44 1527.77,1049.08 1547.89,1049.6 1568.01,1050.02 1588.14,1050.34 1608.26,1050.55 1628.38,1050.66 1648.5,1050.67 1668.62,1050.57 1688.74,1050.36 1708.86,1050.05 1728.99,1049.64 1749.11,1049.12 1769.23,1048.49 1789.35,1047.77 1809.47,1046.93 1829.59,1046 1849.72,1044.96 1869.84,1043.81 1889.96,1042.56 1910.08,1041.2 1930.2,1039.74 1950.32,1038.18 1970.45,1036.51 1990.57,1034.74 2010.69,1032.86 2030.81,1030.88 2050.93,1028.79 2071.05,1026.6 2091.18,1024.31 2111.3,1021.91 2131.42,1019.4 2151.54,1016.79 2171.66,1014.08 2191.78,1011.26 2211.9,1008.34 2232.03,1005.31 2252.15,1002.18 2272.27,998.942 2292.39,995.601 \"/>\n",
       "<polyline clip-path=\"url(#clip872)\" style=\"stroke:#c271d2; stroke-linecap:round; stroke-linejoin:round; stroke-width:4; stroke-opacity:1; fill:none\" points=\"280.231,810.541 300.353,819.946 320.474,827.8 340.596,834.56 360.717,840.597 380.839,846.208 400.961,851.621 421.082,857.008 441.204,862.492 461.325,868.151 481.447,874.031 501.569,880.145 521.69,886.485 541.812,893.021 561.933,899.713 582.055,906.506 602.177,913.343 622.298,920.161 642.42,926.897 662.541,933.49 682.663,939.883 702.785,946.025 722.906,951.87 743.028,957.381 763.149,962.53 783.271,967.297 803.393,971.67 823.514,975.649 843.636,979.24 863.757,982.458 883.879,985.325 904.001,987.87 924.122,990.13 944.244,992.142 964.365,993.953 984.487,995.606 1004.61,997.151 1024.73,998.633 1044.85,1000.1 1064.97,1001.6 1085.1,1003.16 1105.22,1004.83 1125.34,1006.64 1145.46,1008.6 1165.58,1010.74 1185.7,1013.06 1205.82,1015.56 1225.95,1018.24 1246.07,1021.07 1266.19,1024.02 1286.31,1027.07 1306.43,1030.17 1326.55,1033.26 1346.68,1036.29 1366.8,1039.2 1386.92,1041.94 1407.04,1044.43 1427.16,1046.62 1447.28,1048.47 1467.41,1049.91 1487.53,1050.94 1507.65,1051.53 1527.77,1051.7 1547.89,1051.5 1568.01,1051 1588.14,1050.33 1608.26,1049.64 1628.38,1049.17 1648.5,1049.21 1668.62,1050.13 1688.74,1052.36 1708.86,1056.47 1728.99,1063.1 1749.11,1073.03 1769.23,1087.15 1789.35,1106.5 1809.47,1132.3 1829.59,1165.92 1849.72,1208.93 1869.84,1263.1 1889.96,1330.43 1910.08,1413.17 1930.2,1513.81 1950.32,1635.15 1970.45,1780.28 1990.57,1952.6 2010.69,2155.9 2030.81,2394.32 2050.93,2672.39 2071.05,2995.09 2091.18,3367.84 2111.3,3796.55 2131.42,4287.64 2151.54,4848.07 2171.66,5485.39 2191.78,6207.74 2211.9,7023.92 2232.03,7943.41 2252.15,8976.4 2272.27,10133.8 2292.39,11427.5 \"/>\n",
       "<path clip-path=\"url(#clip870)\" d=\"M1948.46 425.996 L2281.66 425.996 L2281.66 166.796 L1948.46 166.796  Z\" fill=\"#ffffff\" fill-rule=\"evenodd\" fill-opacity=\"1\"/>\n",
       "<polyline clip-path=\"url(#clip870)\" style=\"stroke:#000000; stroke-linecap:round; stroke-linejoin:round; stroke-width:4; stroke-opacity:1; fill:none\" points=\"1948.46,425.996 2281.66,425.996 2281.66,166.796 1948.46,166.796 1948.46,425.996 \"/>\n",
       "<polyline clip-path=\"url(#clip870)\" style=\"stroke:#009af9; stroke-linecap:round; stroke-linejoin:round; stroke-width:4; stroke-opacity:1; fill:none\" points=\"1972.16,218.636 2114.36,218.636 \"/>\n",
       "<path clip-path=\"url(#clip870)\" d=\"M2156.97 213.925 L2156.97 199.897 L2161.23 199.897 L2161.23 235.916 L2156.97 235.916 L2156.97 232.027 Q2155.62 234.342 2153.56 235.476 Q2151.53 236.587 2148.66 236.587 Q2143.96 236.587 2140.99 232.837 Q2138.05 229.087 2138.05 222.976 Q2138.05 216.865 2140.99 213.115 Q2143.96 209.365 2148.66 209.365 Q2151.53 209.365 2153.56 210.499 Q2155.62 211.61 2156.97 213.925 M2142.45 222.976 Q2142.45 227.675 2144.37 230.36 Q2146.32 233.022 2149.7 233.022 Q2153.08 233.022 2155.02 230.36 Q2156.97 227.675 2156.97 222.976 Q2156.97 218.277 2155.02 215.615 Q2153.08 212.93 2149.7 212.93 Q2146.32 212.93 2144.37 215.615 Q2142.45 218.277 2142.45 222.976 Z\" fill=\"#000000\" fill-rule=\"nonzero\" fill-opacity=\"1\" /><path clip-path=\"url(#clip870)\" d=\"M2181.78 222.883 Q2176.62 222.883 2174.63 224.064 Q2172.64 225.244 2172.64 228.092 Q2172.64 230.36 2174.12 231.703 Q2175.62 233.022 2178.19 233.022 Q2181.73 233.022 2183.86 230.522 Q2186.02 227.999 2186.02 223.832 L2186.02 222.883 L2181.78 222.883 M2190.28 221.124 L2190.28 235.916 L2186.02 235.916 L2186.02 231.981 Q2184.56 234.342 2182.38 235.476 Q2180.21 236.587 2177.06 236.587 Q2173.08 236.587 2170.72 234.365 Q2168.38 232.119 2168.38 228.369 Q2168.38 223.994 2171.29 221.772 Q2174.23 219.55 2180.04 219.55 L2186.02 219.55 L2186.02 219.133 Q2186.02 216.194 2184.07 214.596 Q2182.15 212.976 2178.66 212.976 Q2176.43 212.976 2174.33 213.508 Q2172.22 214.041 2170.28 215.106 L2170.28 211.17 Q2172.61 210.268 2174.81 209.828 Q2177.01 209.365 2179.1 209.365 Q2184.72 209.365 2187.5 212.282 Q2190.28 215.198 2190.28 221.124 Z\" fill=\"#000000\" fill-rule=\"nonzero\" fill-opacity=\"1\" /><path clip-path=\"url(#clip870)\" d=\"M2203.26 202.629 L2203.26 209.99 L2212.04 209.99 L2212.04 213.3 L2203.26 213.3 L2203.26 227.374 Q2203.26 230.545 2204.12 231.448 Q2205 232.351 2207.66 232.351 L2212.04 232.351 L2212.04 235.916 L2207.66 235.916 Q2202.73 235.916 2200.85 234.087 Q2198.98 232.235 2198.98 227.374 L2198.98 213.3 L2195.85 213.3 L2195.85 209.99 L2198.98 209.99 L2198.98 202.629 L2203.26 202.629 Z\" fill=\"#000000\" fill-rule=\"nonzero\" fill-opacity=\"1\" /><path clip-path=\"url(#clip870)\" d=\"M2229.42 222.883 Q2224.26 222.883 2222.27 224.064 Q2220.28 225.244 2220.28 228.092 Q2220.28 230.36 2221.76 231.703 Q2223.26 233.022 2225.83 233.022 Q2229.37 233.022 2231.5 230.522 Q2233.66 227.999 2233.66 223.832 L2233.66 222.883 L2229.42 222.883 M2237.91 221.124 L2237.91 235.916 L2233.66 235.916 L2233.66 231.981 Q2232.2 234.342 2230.02 235.476 Q2227.85 236.587 2224.7 236.587 Q2220.72 236.587 2218.35 234.365 Q2216.02 232.119 2216.02 228.369 Q2216.02 223.994 2218.93 221.772 Q2221.87 219.55 2227.68 219.55 L2233.66 219.55 L2233.66 219.133 Q2233.66 216.194 2231.71 214.596 Q2229.79 212.976 2226.29 212.976 Q2224.07 212.976 2221.97 213.508 Q2219.86 214.041 2217.91 215.106 L2217.91 211.17 Q2220.25 210.268 2222.45 209.828 Q2224.65 209.365 2226.73 209.365 Q2232.36 209.365 2235.14 212.282 Q2237.91 215.198 2237.91 221.124 Z\" fill=\"#000000\" fill-rule=\"nonzero\" fill-opacity=\"1\" /><polyline clip-path=\"url(#clip870)\" style=\"stroke:#e26f46; stroke-linecap:round; stroke-linejoin:round; stroke-width:4; stroke-opacity:1; fill:none\" points=\"1972.16,270.476 2114.36,270.476 \"/>\n",
       "<path clip-path=\"url(#clip870)\" d=\"M2142.73 257.038 L2142.73 270.024 L2148.61 270.024 Q2151.87 270.024 2153.66 268.335 Q2155.44 266.645 2155.44 263.52 Q2155.44 260.418 2153.66 258.728 Q2151.87 257.038 2148.61 257.038 L2142.73 257.038 M2138.05 253.196 L2148.61 253.196 Q2154.42 253.196 2157.38 255.835 Q2160.37 258.45 2160.37 263.52 Q2160.37 268.635 2157.38 271.251 Q2154.42 273.867 2148.61 273.867 L2142.73 273.867 L2142.73 287.756 L2138.05 287.756 L2138.05 253.196 Z\" fill=\"#000000\" fill-rule=\"nonzero\" fill-opacity=\"1\" /><path clip-path=\"url(#clip870)\" d=\"M2182.08 266.228 L2211.76 266.228 L2211.76 270.117 L2182.08 270.117 L2182.08 266.228 M2182.08 275.672 L2211.76 275.672 L2211.76 279.608 L2182.08 279.608 L2182.08 275.672 Z\" fill=\"#000000\" fill-rule=\"nonzero\" fill-opacity=\"1\" /><path clip-path=\"url(#clip870)\" d=\"M2237.73 283.821 L2245.37 283.821 L2245.37 257.455 L2237.06 259.122 L2237.06 254.862 L2245.32 253.196 L2250 253.196 L2250 283.821 L2257.64 283.821 L2257.64 287.756 L2237.73 287.756 L2237.73 283.821 Z\" fill=\"#000000\" fill-rule=\"nonzero\" fill-opacity=\"1\" /><polyline clip-path=\"url(#clip870)\" style=\"stroke:#3da44d; stroke-linecap:round; stroke-linejoin:round; stroke-width:4; stroke-opacity:1; fill:none\" points=\"1972.16,322.316 2114.36,322.316 \"/>\n",
       "<path clip-path=\"url(#clip870)\" d=\"M2142.73 308.878 L2142.73 321.864 L2148.61 321.864 Q2151.87 321.864 2153.66 320.175 Q2155.44 318.485 2155.44 315.36 Q2155.44 312.258 2153.66 310.568 Q2151.87 308.878 2148.61 308.878 L2142.73 308.878 M2138.05 305.036 L2148.61 305.036 Q2154.42 305.036 2157.38 307.675 Q2160.37 310.29 2160.37 315.36 Q2160.37 320.475 2157.38 323.091 Q2154.42 325.707 2148.61 325.707 L2142.73 325.707 L2142.73 339.596 L2138.05 339.596 L2138.05 305.036 Z\" fill=\"#000000\" fill-rule=\"nonzero\" fill-opacity=\"1\" /><path clip-path=\"url(#clip870)\" d=\"M2182.08 318.068 L2211.76 318.068 L2211.76 321.957 L2182.08 321.957 L2182.08 318.068 M2182.08 327.512 L2211.76 327.512 L2211.76 331.448 L2182.08 331.448 L2182.08 327.512 Z\" fill=\"#000000\" fill-rule=\"nonzero\" fill-opacity=\"1\" /><path clip-path=\"url(#clip870)\" d=\"M2240.95 335.661 L2257.27 335.661 L2257.27 339.596 L2235.32 339.596 L2235.32 335.661 Q2237.98 332.906 2242.57 328.276 Q2247.17 323.624 2248.35 322.281 Q2250.6 319.758 2251.48 318.022 Q2252.38 316.263 2252.38 314.573 Q2252.38 311.818 2250.44 310.082 Q2248.52 308.346 2245.41 308.346 Q2243.22 308.346 2240.76 309.11 Q2238.33 309.874 2235.55 311.425 L2235.55 306.702 Q2238.38 305.568 2240.83 304.989 Q2243.28 304.411 2245.32 304.411 Q2250.69 304.411 2253.89 307.096 Q2257.08 309.781 2257.08 314.272 Q2257.08 316.401 2256.27 318.323 Q2255.48 320.221 2253.38 322.813 Q2252.8 323.485 2249.7 326.702 Q2246.6 329.897 2240.95 335.661 Z\" fill=\"#000000\" fill-rule=\"nonzero\" fill-opacity=\"1\" /><polyline clip-path=\"url(#clip870)\" style=\"stroke:#c271d2; stroke-linecap:round; stroke-linejoin:round; stroke-width:4; stroke-opacity:1; fill:none\" points=\"1972.16,374.156 2114.36,374.156 \"/>\n",
       "<path clip-path=\"url(#clip870)\" d=\"M2142.73 360.718 L2142.73 373.704 L2148.61 373.704 Q2151.87 373.704 2153.66 372.015 Q2155.44 370.325 2155.44 367.2 Q2155.44 364.098 2153.66 362.408 Q2151.87 360.718 2148.61 360.718 L2142.73 360.718 M2138.05 356.876 L2148.61 356.876 Q2154.42 356.876 2157.38 359.515 Q2160.37 362.13 2160.37 367.2 Q2160.37 372.315 2157.38 374.931 Q2154.42 377.547 2148.61 377.547 L2142.73 377.547 L2142.73 391.436 L2138.05 391.436 L2138.05 356.876 Z\" fill=\"#000000\" fill-rule=\"nonzero\" fill-opacity=\"1\" /><path clip-path=\"url(#clip870)\" d=\"M2182.08 369.908 L2211.76 369.908 L2211.76 373.797 L2182.08 373.797 L2182.08 369.908 M2182.08 379.352 L2211.76 379.352 L2211.76 383.288 L2182.08 383.288 L2182.08 379.352 Z\" fill=\"#000000\" fill-rule=\"nonzero\" fill-opacity=\"1\" /><path clip-path=\"url(#clip870)\" d=\"M2235.74 356.876 L2257.96 356.876 L2257.96 358.866 L2245.41 391.436 L2240.53 391.436 L2252.34 360.811 L2235.74 360.811 L2235.74 356.876 Z\" fill=\"#000000\" fill-rule=\"nonzero\" fill-opacity=\"1\" /></svg>\n"
      ],
      "text/html": [
       "<?xml version=\"1.0\" encoding=\"utf-8\"?>\n",
       "<svg xmlns=\"http://www.w3.org/2000/svg\" xmlns:xlink=\"http://www.w3.org/1999/xlink\" width=\"600\" height=\"400\" viewBox=\"0 0 2400 1600\">\n",
       "<defs>\n",
       "  <clipPath id=\"clip920\">\n",
       "    <rect x=\"0\" y=\"0\" width=\"2400\" height=\"1600\"/>\n",
       "  </clipPath>\n",
       "</defs>\n",
       "<path clip-path=\"url(#clip920)\" d=\"M0 1600 L2400 1600 L2400 0 L0 0  Z\" fill=\"#ffffff\" fill-rule=\"evenodd\" fill-opacity=\"1\"/>\n",
       "<defs>\n",
       "  <clipPath id=\"clip921\">\n",
       "    <rect x=\"480\" y=\"0\" width=\"1681\" height=\"1600\"/>\n",
       "  </clipPath>\n",
       "</defs>\n",
       "<path clip-path=\"url(#clip920)\" d=\"M219.866 1423.18 L2352.76 1423.18 L2352.76 123.472 L219.866 123.472  Z\" fill=\"#ffffff\" fill-rule=\"evenodd\" fill-opacity=\"1\"/>\n",
       "<defs>\n",
       "  <clipPath id=\"clip922\">\n",
       "    <rect x=\"219\" y=\"123\" width=\"2134\" height=\"1301\"/>\n",
       "  </clipPath>\n",
       "</defs>\n",
       "<polyline clip-path=\"url(#clip922)\" style=\"stroke:#000000; stroke-linecap:round; stroke-linejoin:round; stroke-width:2; stroke-opacity:0.1; fill:none\" points=\"481.447,1423.18 481.447,123.472 \"/>\n",
       "<polyline clip-path=\"url(#clip922)\" style=\"stroke:#000000; stroke-linecap:round; stroke-linejoin:round; stroke-width:2; stroke-opacity:0.1; fill:none\" points=\"883.879,1423.18 883.879,123.472 \"/>\n",
       "<polyline clip-path=\"url(#clip922)\" style=\"stroke:#000000; stroke-linecap:round; stroke-linejoin:round; stroke-width:2; stroke-opacity:0.1; fill:none\" points=\"1286.31,1423.18 1286.31,123.472 \"/>\n",
       "<polyline clip-path=\"url(#clip922)\" style=\"stroke:#000000; stroke-linecap:round; stroke-linejoin:round; stroke-width:2; stroke-opacity:0.1; fill:none\" points=\"1688.74,1423.18 1688.74,123.472 \"/>\n",
       "<polyline clip-path=\"url(#clip922)\" style=\"stroke:#000000; stroke-linecap:round; stroke-linejoin:round; stroke-width:2; stroke-opacity:0.1; fill:none\" points=\"2091.18,1423.18 2091.18,123.472 \"/>\n",
       "<polyline clip-path=\"url(#clip922)\" style=\"stroke:#000000; stroke-linecap:round; stroke-linejoin:round; stroke-width:2; stroke-opacity:0.1; fill:none\" points=\"219.866,1423.18 2352.76,1423.18 \"/>\n",
       "<polyline clip-path=\"url(#clip922)\" style=\"stroke:#000000; stroke-linecap:round; stroke-linejoin:round; stroke-width:2; stroke-opacity:0.1; fill:none\" points=\"219.866,1163.24 2352.76,1163.24 \"/>\n",
       "<polyline clip-path=\"url(#clip922)\" style=\"stroke:#000000; stroke-linecap:round; stroke-linejoin:round; stroke-width:2; stroke-opacity:0.1; fill:none\" points=\"219.866,903.297 2352.76,903.297 \"/>\n",
       "<polyline clip-path=\"url(#clip922)\" style=\"stroke:#000000; stroke-linecap:round; stroke-linejoin:round; stroke-width:2; stroke-opacity:0.1; fill:none\" points=\"219.866,643.355 2352.76,643.355 \"/>\n",
       "<polyline clip-path=\"url(#clip922)\" style=\"stroke:#000000; stroke-linecap:round; stroke-linejoin:round; stroke-width:2; stroke-opacity:0.1; fill:none\" points=\"219.866,383.414 2352.76,383.414 \"/>\n",
       "<polyline clip-path=\"url(#clip922)\" style=\"stroke:#000000; stroke-linecap:round; stroke-linejoin:round; stroke-width:2; stroke-opacity:0.1; fill:none\" points=\"219.866,123.472 2352.76,123.472 \"/>\n",
       "<polyline clip-path=\"url(#clip920)\" style=\"stroke:#000000; stroke-linecap:round; stroke-linejoin:round; stroke-width:4; stroke-opacity:1; fill:none\" points=\"219.866,1423.18 2352.76,1423.18 \"/>\n",
       "<polyline clip-path=\"url(#clip920)\" style=\"stroke:#000000; stroke-linecap:round; stroke-linejoin:round; stroke-width:4; stroke-opacity:1; fill:none\" points=\"481.447,1423.18 481.447,1404.28 \"/>\n",
       "<polyline clip-path=\"url(#clip920)\" style=\"stroke:#000000; stroke-linecap:round; stroke-linejoin:round; stroke-width:4; stroke-opacity:1; fill:none\" points=\"883.879,1423.18 883.879,1404.28 \"/>\n",
       "<polyline clip-path=\"url(#clip920)\" style=\"stroke:#000000; stroke-linecap:round; stroke-linejoin:round; stroke-width:4; stroke-opacity:1; fill:none\" points=\"1286.31,1423.18 1286.31,1404.28 \"/>\n",
       "<polyline clip-path=\"url(#clip920)\" style=\"stroke:#000000; stroke-linecap:round; stroke-linejoin:round; stroke-width:4; stroke-opacity:1; fill:none\" points=\"1688.74,1423.18 1688.74,1404.28 \"/>\n",
       "<polyline clip-path=\"url(#clip920)\" style=\"stroke:#000000; stroke-linecap:round; stroke-linejoin:round; stroke-width:4; stroke-opacity:1; fill:none\" points=\"2091.18,1423.18 2091.18,1404.28 \"/>\n",
       "<path clip-path=\"url(#clip920)\" d=\"M427.732 1468.75 L457.408 1468.75 L457.408 1472.69 L427.732 1472.69 L427.732 1468.75 Z\" fill=\"#000000\" fill-rule=\"nonzero\" fill-opacity=\"1\" /><path clip-path=\"url(#clip920)\" d=\"M477.5 1454.1 Q473.889 1454.1 472.061 1457.66 Q470.255 1461.2 470.255 1468.33 Q470.255 1475.44 472.061 1479.01 Q473.889 1482.55 477.5 1482.55 Q481.135 1482.55 482.94 1479.01 Q484.769 1475.44 484.769 1468.33 Q484.769 1461.2 482.94 1457.66 Q481.135 1454.1 477.5 1454.1 M477.5 1450.39 Q483.31 1450.39 486.366 1455 Q489.445 1459.58 489.445 1468.33 Q489.445 1477.06 486.366 1481.67 Q483.31 1486.25 477.5 1486.25 Q471.69 1486.25 468.611 1481.67 Q465.556 1477.06 465.556 1468.33 Q465.556 1459.58 468.611 1455 Q471.69 1450.39 477.5 1450.39 Z\" fill=\"#000000\" fill-rule=\"nonzero\" fill-opacity=\"1\" /><path clip-path=\"url(#clip920)\" d=\"M497.662 1479.7 L502.546 1479.7 L502.546 1485.58 L497.662 1485.58 L497.662 1479.7 Z\" fill=\"#000000\" fill-rule=\"nonzero\" fill-opacity=\"1\" /><path clip-path=\"url(#clip920)\" d=\"M525.579 1455.09 L513.773 1473.54 L525.579 1473.54 L525.579 1455.09 M524.352 1451.02 L530.232 1451.02 L530.232 1473.54 L535.162 1473.54 L535.162 1477.43 L530.232 1477.43 L530.232 1485.58 L525.579 1485.58 L525.579 1477.43 L509.977 1477.43 L509.977 1472.92 L524.352 1451.02 Z\" fill=\"#000000\" fill-rule=\"nonzero\" fill-opacity=\"1\" /><path clip-path=\"url(#clip920)\" d=\"M831.206 1468.75 L860.882 1468.75 L860.882 1472.69 L831.206 1472.69 L831.206 1468.75 Z\" fill=\"#000000\" fill-rule=\"nonzero\" fill-opacity=\"1\" /><path clip-path=\"url(#clip920)\" d=\"M880.974 1454.1 Q877.363 1454.1 875.534 1457.66 Q873.729 1461.2 873.729 1468.33 Q873.729 1475.44 875.534 1479.01 Q877.363 1482.55 880.974 1482.55 Q884.608 1482.55 886.414 1479.01 Q888.242 1475.44 888.242 1468.33 Q888.242 1461.2 886.414 1457.66 Q884.608 1454.1 880.974 1454.1 M880.974 1450.39 Q886.784 1450.39 889.84 1455 Q892.918 1459.58 892.918 1468.33 Q892.918 1477.06 889.84 1481.67 Q886.784 1486.25 880.974 1486.25 Q875.164 1486.25 872.085 1481.67 Q869.03 1477.06 869.03 1468.33 Q869.03 1459.58 872.085 1455 Q875.164 1450.39 880.974 1450.39 Z\" fill=\"#000000\" fill-rule=\"nonzero\" fill-opacity=\"1\" /><path clip-path=\"url(#clip920)\" d=\"M901.136 1479.7 L906.02 1479.7 L906.02 1485.58 L901.136 1485.58 L901.136 1479.7 Z\" fill=\"#000000\" fill-rule=\"nonzero\" fill-opacity=\"1\" /><path clip-path=\"url(#clip920)\" d=\"M920.233 1481.64 L936.552 1481.64 L936.552 1485.58 L914.608 1485.58 L914.608 1481.64 Q917.27 1478.89 921.853 1474.26 Q926.46 1469.61 927.64 1468.27 Q929.886 1465.74 930.765 1464.01 Q931.668 1462.25 931.668 1460.56 Q931.668 1457.8 929.724 1456.07 Q927.802 1454.33 924.701 1454.33 Q922.502 1454.33 920.048 1455.09 Q917.617 1455.86 914.84 1457.41 L914.84 1452.69 Q917.664 1451.55 920.117 1450.97 Q922.571 1450.39 924.608 1450.39 Q929.978 1450.39 933.173 1453.08 Q936.367 1455.77 936.367 1460.26 Q936.367 1462.39 935.557 1464.31 Q934.77 1466.2 932.664 1468.8 Q932.085 1469.47 928.983 1472.69 Q925.881 1475.88 920.233 1481.64 Z\" fill=\"#000000\" fill-rule=\"nonzero\" fill-opacity=\"1\" /><path clip-path=\"url(#clip920)\" d=\"M1263.7 1454.1 Q1260.08 1454.1 1258.26 1457.66 Q1256.45 1461.2 1256.45 1468.33 Q1256.45 1475.44 1258.26 1479.01 Q1260.08 1482.55 1263.7 1482.55 Q1267.33 1482.55 1269.14 1479.01 Q1270.96 1475.44 1270.96 1468.33 Q1270.96 1461.2 1269.14 1457.66 Q1267.33 1454.1 1263.7 1454.1 M1263.7 1450.39 Q1269.51 1450.39 1272.56 1455 Q1275.64 1459.58 1275.64 1468.33 Q1275.64 1477.06 1272.56 1481.67 Q1269.51 1486.25 1263.7 1486.25 Q1257.89 1486.25 1254.81 1481.67 Q1251.75 1477.06 1251.75 1468.33 Q1251.75 1459.58 1254.81 1455 Q1257.89 1450.39 1263.7 1450.39 Z\" fill=\"#000000\" fill-rule=\"nonzero\" fill-opacity=\"1\" /><path clip-path=\"url(#clip920)\" d=\"M1283.86 1479.7 L1288.74 1479.7 L1288.74 1485.58 L1283.86 1485.58 L1283.86 1479.7 Z\" fill=\"#000000\" fill-rule=\"nonzero\" fill-opacity=\"1\" /><path clip-path=\"url(#clip920)\" d=\"M1308.93 1454.1 Q1305.32 1454.1 1303.49 1457.66 Q1301.68 1461.2 1301.68 1468.33 Q1301.68 1475.44 1303.49 1479.01 Q1305.32 1482.55 1308.93 1482.55 Q1312.56 1482.55 1314.37 1479.01 Q1316.2 1475.44 1316.2 1468.33 Q1316.2 1461.2 1314.37 1457.66 Q1312.56 1454.1 1308.93 1454.1 M1308.93 1450.39 Q1314.74 1450.39 1317.79 1455 Q1320.87 1459.58 1320.87 1468.33 Q1320.87 1477.06 1317.79 1481.67 Q1314.74 1486.25 1308.93 1486.25 Q1303.12 1486.25 1300.04 1481.67 Q1296.98 1477.06 1296.98 1468.33 Q1296.98 1459.58 1300.04 1455 Q1303.12 1450.39 1308.93 1450.39 Z\" fill=\"#000000\" fill-rule=\"nonzero\" fill-opacity=\"1\" /><path clip-path=\"url(#clip920)\" d=\"M1666.93 1454.1 Q1663.31 1454.1 1661.49 1457.66 Q1659.68 1461.2 1659.68 1468.33 Q1659.68 1475.44 1661.49 1479.01 Q1663.31 1482.55 1666.93 1482.55 Q1670.56 1482.55 1672.37 1479.01 Q1674.19 1475.44 1674.19 1468.33 Q1674.19 1461.2 1672.37 1457.66 Q1670.56 1454.1 1666.93 1454.1 M1666.93 1450.39 Q1672.74 1450.39 1675.79 1455 Q1678.87 1459.58 1678.87 1468.33 Q1678.87 1477.06 1675.79 1481.67 Q1672.74 1486.25 1666.93 1486.25 Q1661.12 1486.25 1658.04 1481.67 Q1654.98 1477.06 1654.98 1468.33 Q1654.98 1459.58 1658.04 1455 Q1661.12 1450.39 1666.93 1450.39 Z\" fill=\"#000000\" fill-rule=\"nonzero\" fill-opacity=\"1\" /><path clip-path=\"url(#clip920)\" d=\"M1687.09 1479.7 L1691.97 1479.7 L1691.97 1485.58 L1687.09 1485.58 L1687.09 1479.7 Z\" fill=\"#000000\" fill-rule=\"nonzero\" fill-opacity=\"1\" /><path clip-path=\"url(#clip920)\" d=\"M1706.19 1481.64 L1722.5 1481.64 L1722.5 1485.58 L1700.56 1485.58 L1700.56 1481.64 Q1703.22 1478.89 1707.81 1474.26 Q1712.41 1469.61 1713.59 1468.27 Q1715.84 1465.74 1716.72 1464.01 Q1717.62 1462.25 1717.62 1460.56 Q1717.62 1457.8 1715.68 1456.07 Q1713.75 1454.33 1710.65 1454.33 Q1708.45 1454.33 1706 1455.09 Q1703.57 1455.86 1700.79 1457.41 L1700.79 1452.69 Q1703.62 1451.55 1706.07 1450.97 Q1708.52 1450.39 1710.56 1450.39 Q1715.93 1450.39 1719.12 1453.08 Q1722.32 1455.77 1722.32 1460.26 Q1722.32 1462.39 1721.51 1464.31 Q1720.72 1466.2 1718.62 1468.8 Q1718.04 1469.47 1714.94 1472.69 Q1711.83 1475.88 1706.19 1481.64 Z\" fill=\"#000000\" fill-rule=\"nonzero\" fill-opacity=\"1\" /><path clip-path=\"url(#clip920)\" d=\"M2068.32 1454.1 Q2064.71 1454.1 2062.88 1457.66 Q2061.07 1461.2 2061.07 1468.33 Q2061.07 1475.44 2062.88 1479.01 Q2064.71 1482.55 2068.32 1482.55 Q2071.95 1482.55 2073.76 1479.01 Q2075.58 1475.44 2075.58 1468.33 Q2075.58 1461.2 2073.76 1457.66 Q2071.95 1454.1 2068.32 1454.1 M2068.32 1450.39 Q2074.13 1450.39 2077.18 1455 Q2080.26 1459.58 2080.26 1468.33 Q2080.26 1477.06 2077.18 1481.67 Q2074.13 1486.25 2068.32 1486.25 Q2062.51 1486.25 2059.43 1481.67 Q2056.37 1477.06 2056.37 1468.33 Q2056.37 1459.58 2059.43 1455 Q2062.51 1450.39 2068.32 1450.39 Z\" fill=\"#000000\" fill-rule=\"nonzero\" fill-opacity=\"1\" /><path clip-path=\"url(#clip920)\" d=\"M2088.48 1479.7 L2093.36 1479.7 L2093.36 1485.58 L2088.48 1485.58 L2088.48 1479.7 Z\" fill=\"#000000\" fill-rule=\"nonzero\" fill-opacity=\"1\" /><path clip-path=\"url(#clip920)\" d=\"M2116.39 1455.09 L2104.59 1473.54 L2116.39 1473.54 L2116.39 1455.09 M2115.17 1451.02 L2121.05 1451.02 L2121.05 1473.54 L2125.98 1473.54 L2125.98 1477.43 L2121.05 1477.43 L2121.05 1485.58 L2116.39 1485.58 L2116.39 1477.43 L2100.79 1477.43 L2100.79 1472.92 L2115.17 1451.02 Z\" fill=\"#000000\" fill-rule=\"nonzero\" fill-opacity=\"1\" /><path clip-path=\"url(#clip920)\" d=\"M1302.93 1532.4 L1290.04 1549.74 L1303.59 1568.04 L1296.69 1568.04 L1286.31 1554.04 L1275.93 1568.04 L1269.03 1568.04 L1282.87 1549.39 L1270.21 1532.4 L1277.11 1532.4 L1286.57 1545.1 L1296.02 1532.4 L1302.93 1532.4 Z\" fill=\"#000000\" fill-rule=\"nonzero\" fill-opacity=\"1\" /><polyline clip-path=\"url(#clip920)\" style=\"stroke:#000000; stroke-linecap:round; stroke-linejoin:round; stroke-width:4; stroke-opacity:1; fill:none\" points=\"219.866,1423.18 219.866,123.472 \"/>\n",
       "<polyline clip-path=\"url(#clip920)\" style=\"stroke:#000000; stroke-linecap:round; stroke-linejoin:round; stroke-width:4; stroke-opacity:1; fill:none\" points=\"219.866,1423.18 238.764,1423.18 \"/>\n",
       "<polyline clip-path=\"url(#clip920)\" style=\"stroke:#000000; stroke-linecap:round; stroke-linejoin:round; stroke-width:4; stroke-opacity:1; fill:none\" points=\"219.866,1163.24 238.764,1163.24 \"/>\n",
       "<polyline clip-path=\"url(#clip920)\" style=\"stroke:#000000; stroke-linecap:round; stroke-linejoin:round; stroke-width:4; stroke-opacity:1; fill:none\" points=\"219.866,903.297 238.764,903.297 \"/>\n",
       "<polyline clip-path=\"url(#clip920)\" style=\"stroke:#000000; stroke-linecap:round; stroke-linejoin:round; stroke-width:4; stroke-opacity:1; fill:none\" points=\"219.866,643.355 238.764,643.355 \"/>\n",
       "<polyline clip-path=\"url(#clip920)\" style=\"stroke:#000000; stroke-linecap:round; stroke-linejoin:round; stroke-width:4; stroke-opacity:1; fill:none\" points=\"219.866,383.414 238.764,383.414 \"/>\n",
       "<polyline clip-path=\"url(#clip920)\" style=\"stroke:#000000; stroke-linecap:round; stroke-linejoin:round; stroke-width:4; stroke-opacity:1; fill:none\" points=\"219.866,123.472 238.764,123.472 \"/>\n",
       "<path clip-path=\"url(#clip920)\" d=\"M126.691 1408.98 Q123.08 1408.98 121.251 1412.54 Q119.445 1416.08 119.445 1423.21 Q119.445 1430.32 121.251 1433.89 Q123.08 1437.43 126.691 1437.43 Q130.325 1437.43 132.13 1433.89 Q133.959 1430.32 133.959 1423.21 Q133.959 1416.08 132.13 1412.54 Q130.325 1408.98 126.691 1408.98 M126.691 1405.27 Q132.501 1405.27 135.556 1409.88 Q138.635 1414.46 138.635 1423.21 Q138.635 1431.94 135.556 1436.55 Q132.501 1441.13 126.691 1441.13 Q120.88 1441.13 117.802 1436.55 Q114.746 1431.94 114.746 1423.21 Q114.746 1414.46 117.802 1409.88 Q120.88 1405.27 126.691 1405.27 Z\" fill=\"#000000\" fill-rule=\"nonzero\" fill-opacity=\"1\" /><path clip-path=\"url(#clip920)\" d=\"M146.853 1434.58 L151.737 1434.58 L151.737 1440.46 L146.853 1440.46 L146.853 1434.58 Z\" fill=\"#000000\" fill-rule=\"nonzero\" fill-opacity=\"1\" /><path clip-path=\"url(#clip920)\" d=\"M171.922 1408.98 Q168.311 1408.98 166.482 1412.54 Q164.677 1416.08 164.677 1423.21 Q164.677 1430.32 166.482 1433.89 Q168.311 1437.43 171.922 1437.43 Q175.556 1437.43 177.362 1433.89 Q179.19 1430.32 179.19 1423.21 Q179.19 1416.08 177.362 1412.54 Q175.556 1408.98 171.922 1408.98 M171.922 1405.27 Q177.732 1405.27 180.788 1409.88 Q183.866 1414.46 183.866 1423.21 Q183.866 1431.94 180.788 1436.55 Q177.732 1441.13 171.922 1441.13 Q166.112 1441.13 163.033 1436.55 Q159.978 1431.94 159.978 1423.21 Q159.978 1414.46 163.033 1409.88 Q166.112 1405.27 171.922 1405.27 Z\" fill=\"#000000\" fill-rule=\"nonzero\" fill-opacity=\"1\" /><path clip-path=\"url(#clip920)\" d=\"M128.288 1149.04 Q124.677 1149.04 122.848 1152.6 Q121.043 1156.14 121.043 1163.27 Q121.043 1170.38 122.848 1173.94 Q124.677 1177.49 128.288 1177.49 Q131.922 1177.49 133.728 1173.94 Q135.556 1170.38 135.556 1163.27 Q135.556 1156.14 133.728 1152.6 Q131.922 1149.04 128.288 1149.04 M128.288 1145.33 Q134.098 1145.33 137.154 1149.94 Q140.232 1154.52 140.232 1163.27 Q140.232 1172 137.154 1176.61 Q134.098 1181.19 128.288 1181.19 Q122.478 1181.19 119.399 1176.61 Q116.343 1172 116.343 1163.27 Q116.343 1154.52 119.399 1149.94 Q122.478 1145.33 128.288 1145.33 Z\" fill=\"#000000\" fill-rule=\"nonzero\" fill-opacity=\"1\" /><path clip-path=\"url(#clip920)\" d=\"M148.45 1174.64 L153.334 1174.64 L153.334 1180.52 L148.45 1180.52 L148.45 1174.64 Z\" fill=\"#000000\" fill-rule=\"nonzero\" fill-opacity=\"1\" /><path clip-path=\"url(#clip920)\" d=\"M167.547 1176.58 L183.866 1176.58 L183.866 1180.52 L161.922 1180.52 L161.922 1176.58 Q164.584 1173.83 169.167 1169.2 Q173.774 1164.55 174.954 1163.2 Q177.2 1160.68 178.079 1158.94 Q178.982 1157.19 178.982 1155.5 Q178.982 1152.74 177.038 1151 Q175.116 1149.27 172.014 1149.27 Q169.815 1149.27 167.362 1150.03 Q164.931 1150.8 162.153 1152.35 L162.153 1147.62 Q164.977 1146.49 167.431 1145.91 Q169.885 1145.33 171.922 1145.33 Q177.292 1145.33 180.487 1148.02 Q183.681 1150.7 183.681 1155.19 Q183.681 1157.32 182.871 1159.25 Q182.084 1161.14 179.977 1163.74 Q179.399 1164.41 176.297 1167.62 Q173.195 1170.82 167.547 1176.58 Z\" fill=\"#000000\" fill-rule=\"nonzero\" fill-opacity=\"1\" /><path clip-path=\"url(#clip920)\" d=\"M126.205 889.095 Q122.593 889.095 120.765 892.66 Q118.959 896.202 118.959 903.331 Q118.959 910.438 120.765 914.003 Q122.593 917.544 126.205 917.544 Q129.839 917.544 131.644 914.003 Q133.473 910.438 133.473 903.331 Q133.473 896.202 131.644 892.66 Q129.839 889.095 126.205 889.095 M126.205 885.392 Q132.015 885.392 135.07 889.998 Q138.149 894.582 138.149 903.331 Q138.149 912.058 135.07 916.665 Q132.015 921.248 126.205 921.248 Q120.394 921.248 117.316 916.665 Q114.26 912.058 114.26 903.331 Q114.26 894.582 117.316 889.998 Q120.394 885.392 126.205 885.392 Z\" fill=\"#000000\" fill-rule=\"nonzero\" fill-opacity=\"1\" /><path clip-path=\"url(#clip920)\" d=\"M146.366 914.697 L151.251 914.697 L151.251 920.577 L146.366 920.577 L146.366 914.697 Z\" fill=\"#000000\" fill-rule=\"nonzero\" fill-opacity=\"1\" /><path clip-path=\"url(#clip920)\" d=\"M174.283 890.091 L162.477 908.54 L174.283 908.54 L174.283 890.091 M173.056 886.017 L178.936 886.017 L178.936 908.54 L183.866 908.54 L183.866 912.429 L178.936 912.429 L178.936 920.577 L174.283 920.577 L174.283 912.429 L158.681 912.429 L158.681 907.915 L173.056 886.017 Z\" fill=\"#000000\" fill-rule=\"nonzero\" fill-opacity=\"1\" /><path clip-path=\"url(#clip920)\" d=\"M126.529 629.154 Q122.918 629.154 121.089 632.719 Q119.283 636.26 119.283 643.39 Q119.283 650.496 121.089 654.061 Q122.918 657.603 126.529 657.603 Q130.163 657.603 131.968 654.061 Q133.797 650.496 133.797 643.39 Q133.797 636.26 131.968 632.719 Q130.163 629.154 126.529 629.154 M126.529 625.45 Q132.339 625.45 135.394 630.057 Q138.473 634.64 138.473 643.39 Q138.473 652.117 135.394 656.723 Q132.339 661.307 126.529 661.307 Q120.718 661.307 117.64 656.723 Q114.584 652.117 114.584 643.39 Q114.584 634.64 117.64 630.057 Q120.718 625.45 126.529 625.45 Z\" fill=\"#000000\" fill-rule=\"nonzero\" fill-opacity=\"1\" /><path clip-path=\"url(#clip920)\" d=\"M146.691 654.756 L151.575 654.756 L151.575 660.635 L146.691 660.635 L146.691 654.756 Z\" fill=\"#000000\" fill-rule=\"nonzero\" fill-opacity=\"1\" /><path clip-path=\"url(#clip920)\" d=\"M172.339 641.492 Q169.19 641.492 167.339 643.645 Q165.51 645.797 165.51 649.547 Q165.51 653.274 167.339 655.45 Q169.19 657.603 172.339 657.603 Q175.487 657.603 177.315 655.45 Q179.167 653.274 179.167 649.547 Q179.167 645.797 177.315 643.645 Q175.487 641.492 172.339 641.492 M181.621 626.839 L181.621 631.098 Q179.862 630.265 178.056 629.825 Q176.274 629.385 174.514 629.385 Q169.885 629.385 167.431 632.51 Q165.001 635.635 164.653 641.955 Q166.019 639.941 168.079 638.876 Q170.139 637.788 172.616 637.788 Q177.825 637.788 180.834 640.959 Q183.866 644.108 183.866 649.547 Q183.866 654.871 180.718 658.089 Q177.57 661.307 172.339 661.307 Q166.343 661.307 163.172 656.723 Q160.001 652.117 160.001 643.39 Q160.001 635.196 163.89 630.334 Q167.778 625.45 174.329 625.45 Q176.089 625.45 177.871 625.797 Q179.676 626.145 181.621 626.839 Z\" fill=\"#000000\" fill-rule=\"nonzero\" fill-opacity=\"1\" /><path clip-path=\"url(#clip920)\" d=\"M126.783 369.212 Q123.172 369.212 121.343 372.777 Q119.538 376.319 119.538 383.448 Q119.538 390.555 121.343 394.12 Q123.172 397.661 126.783 397.661 Q130.417 397.661 132.223 394.12 Q134.052 390.555 134.052 383.448 Q134.052 376.319 132.223 372.777 Q130.417 369.212 126.783 369.212 M126.783 365.509 Q132.593 365.509 135.649 370.115 Q138.728 374.698 138.728 383.448 Q138.728 392.175 135.649 396.782 Q132.593 401.365 126.783 401.365 Q120.973 401.365 117.894 396.782 Q114.839 392.175 114.839 383.448 Q114.839 374.698 117.894 370.115 Q120.973 365.509 126.783 365.509 Z\" fill=\"#000000\" fill-rule=\"nonzero\" fill-opacity=\"1\" /><path clip-path=\"url(#clip920)\" d=\"M146.945 394.814 L151.829 394.814 L151.829 400.694 L146.945 400.694 L146.945 394.814 Z\" fill=\"#000000\" fill-rule=\"nonzero\" fill-opacity=\"1\" /><path clip-path=\"url(#clip920)\" d=\"M172.014 384.282 Q168.681 384.282 166.76 386.064 Q164.862 387.847 164.862 390.971 Q164.862 394.096 166.76 395.879 Q168.681 397.661 172.014 397.661 Q175.348 397.661 177.269 395.879 Q179.19 394.073 179.19 390.971 Q179.19 387.847 177.269 386.064 Q175.371 384.282 172.014 384.282 M167.339 382.291 Q164.329 381.55 162.64 379.49 Q160.973 377.43 160.973 374.467 Q160.973 370.323 163.913 367.916 Q166.876 365.509 172.014 365.509 Q177.176 365.509 180.116 367.916 Q183.056 370.323 183.056 374.467 Q183.056 377.43 181.366 379.49 Q179.7 381.55 176.714 382.291 Q180.093 383.078 181.968 385.37 Q183.866 387.661 183.866 390.971 Q183.866 395.995 180.788 398.68 Q177.732 401.365 172.014 401.365 Q166.297 401.365 163.218 398.68 Q160.163 395.995 160.163 390.971 Q160.163 387.661 162.061 385.37 Q163.959 383.078 167.339 382.291 M165.626 374.907 Q165.626 377.592 167.292 379.097 Q168.982 380.601 172.014 380.601 Q175.024 380.601 176.714 379.097 Q178.426 377.592 178.426 374.907 Q178.426 372.222 176.714 370.717 Q175.024 369.212 172.014 369.212 Q168.982 369.212 167.292 370.717 Q165.626 372.222 165.626 374.907 Z\" fill=\"#000000\" fill-rule=\"nonzero\" fill-opacity=\"1\" /><path clip-path=\"url(#clip920)\" d=\"M117.501 136.817 L125.14 136.817 L125.14 110.451 L116.83 112.118 L116.83 107.859 L125.093 106.192 L129.769 106.192 L129.769 136.817 L137.408 136.817 L137.408 140.752 L117.501 140.752 L117.501 136.817 Z\" fill=\"#000000\" fill-rule=\"nonzero\" fill-opacity=\"1\" /><path clip-path=\"url(#clip920)\" d=\"M146.853 134.873 L151.737 134.873 L151.737 140.752 L146.853 140.752 L146.853 134.873 Z\" fill=\"#000000\" fill-rule=\"nonzero\" fill-opacity=\"1\" /><path clip-path=\"url(#clip920)\" d=\"M171.922 109.271 Q168.311 109.271 166.482 112.836 Q164.677 116.377 164.677 123.507 Q164.677 130.613 166.482 134.178 Q168.311 137.72 171.922 137.72 Q175.556 137.72 177.362 134.178 Q179.19 130.613 179.19 123.507 Q179.19 116.377 177.362 112.836 Q175.556 109.271 171.922 109.271 M171.922 105.567 Q177.732 105.567 180.788 110.174 Q183.866 114.757 183.866 123.507 Q183.866 132.234 180.788 136.84 Q177.732 141.423 171.922 141.423 Q166.112 141.423 163.033 136.84 Q159.978 132.234 159.978 123.507 Q159.978 114.757 163.033 110.174 Q166.112 105.567 171.922 105.567 Z\" fill=\"#000000\" fill-rule=\"nonzero\" fill-opacity=\"1\" /><path clip-path=\"url(#clip920)\" d=\"M67.3143 771.639 Q73.68 774.122 75.6216 776.477 Q77.5631 778.832 77.5631 782.779 L77.5631 787.458 L72.6615 787.458 L72.6615 784.02 Q72.6615 781.601 71.5157 780.265 Q70.3699 778.928 66.1048 777.305 L63.4312 776.254 L28.3562 790.673 L28.3562 784.466 L56.238 773.326 L28.3562 762.186 L28.3562 755.979 L67.3143 771.639 Z\" fill=\"#000000\" fill-rule=\"nonzero\" fill-opacity=\"1\" /><path clip-path=\"url(#clip920)\" d=\"M1203.29 18.8205 L1203.29 65.8515 L1213.17 65.8515 Q1225.69 65.8515 1231.48 60.1802 Q1237.32 54.509 1237.32 42.2752 Q1237.32 30.1225 1231.48 24.4918 Q1225.69 18.8205 1213.17 18.8205 L1203.29 18.8205 M1195.1 12.096 L1211.92 12.096 Q1229.5 12.096 1237.72 19.4281 Q1245.94 26.7198 1245.94 42.2752 Q1245.94 57.9117 1237.68 65.2439 Q1229.42 72.576 1211.92 72.576 L1195.1 72.576 L1195.1 12.096 Z\" fill=\"#000000\" fill-rule=\"nonzero\" fill-opacity=\"1\" /><path clip-path=\"url(#clip920)\" d=\"M1279.28 49.7694 Q1270.25 49.7694 1266.77 51.8354 Q1263.28 53.9013 1263.28 58.8839 Q1263.28 62.8538 1265.87 65.2034 Q1268.51 67.5124 1273 67.5124 Q1279.2 67.5124 1282.93 63.1374 Q1286.7 58.7219 1286.7 51.4303 L1286.7 49.7694 L1279.28 49.7694 M1294.15 46.6907 L1294.15 72.576 L1286.7 72.576 L1286.7 65.6895 Q1284.14 69.8214 1280.34 71.8063 Q1276.53 73.7508 1271.02 73.7508 Q1264.05 73.7508 1259.92 69.8619 Q1255.83 65.9325 1255.83 59.3701 Q1255.83 51.7138 1260.93 47.825 Q1266.08 43.9361 1276.24 43.9361 L1286.7 43.9361 L1286.7 43.2069 Q1286.7 38.0623 1283.29 35.2672 Q1279.93 32.4315 1273.81 32.4315 Q1269.93 32.4315 1266.24 33.3632 Q1262.55 34.295 1259.15 36.1584 L1259.15 29.2718 Q1263.24 27.692 1267.09 26.9223 Q1270.94 26.1121 1274.58 26.1121 Q1284.43 26.1121 1289.29 31.2163 Q1294.15 36.3204 1294.15 46.6907 Z\" fill=\"#000000\" fill-rule=\"nonzero\" fill-opacity=\"1\" /><path clip-path=\"url(#clip920)\" d=\"M1316.88 14.324 L1316.88 27.2059 L1332.23 27.2059 L1332.23 32.9987 L1316.88 32.9987 L1316.88 57.6282 Q1316.88 63.1779 1318.37 64.7578 Q1319.91 66.3376 1324.57 66.3376 L1332.23 66.3376 L1332.23 72.576 L1324.57 72.576 Q1315.94 72.576 1312.66 69.3758 Q1309.38 66.1351 1309.38 57.6282 L1309.38 32.9987 L1303.91 32.9987 L1303.91 27.2059 L1309.38 27.2059 L1309.38 14.324 L1316.88 14.324 Z\" fill=\"#000000\" fill-rule=\"nonzero\" fill-opacity=\"1\" /><path clip-path=\"url(#clip920)\" d=\"M1362.65 49.7694 Q1353.62 49.7694 1350.13 51.8354 Q1346.65 53.9013 1346.65 58.8839 Q1346.65 62.8538 1349.24 65.2034 Q1351.87 67.5124 1356.37 67.5124 Q1362.57 67.5124 1366.3 63.1374 Q1370.06 58.7219 1370.06 51.4303 L1370.06 49.7694 L1362.65 49.7694 M1377.52 46.6907 L1377.52 72.576 L1370.06 72.576 L1370.06 65.6895 Q1367.51 69.8214 1363.7 71.8063 Q1359.9 73.7508 1354.39 73.7508 Q1347.42 73.7508 1343.29 69.8619 Q1339.2 65.9325 1339.2 59.3701 Q1339.2 51.7138 1344.3 47.825 Q1349.44 43.9361 1359.61 43.9361 L1370.06 43.9361 L1370.06 43.2069 Q1370.06 38.0623 1366.66 35.2672 Q1363.3 32.4315 1357.18 32.4315 Q1353.29 32.4315 1349.61 33.3632 Q1345.92 34.295 1342.52 36.1584 L1342.52 29.2718 Q1346.61 27.692 1350.46 26.9223 Q1354.31 26.1121 1357.95 26.1121 Q1367.8 26.1121 1372.66 31.2163 Q1377.52 36.3204 1377.52 46.6907 Z\" fill=\"#000000\" fill-rule=\"nonzero\" fill-opacity=\"1\" /><polyline clip-path=\"url(#clip922)\" style=\"stroke:#009af9; stroke-linecap:round; stroke-linejoin:round; stroke-width:4; stroke-opacity:1; fill:none\" points=\"280.231,810.541 300.353,810.28 320.474,825.249 340.596,832.674 360.717,825.362 380.839,836.989 400.961,861.44 421.082,876.319 441.204,891.526 461.325,870.17 481.447,888.03 501.569,872.815 521.69,884.4 541.812,901.353 561.933,895.536 582.055,889.361 602.177,915.164 622.298,936.148 642.42,908.092 662.541,931.781 682.663,953.762 702.785,959.931 722.906,929.018 743.028,921.346 763.149,935.888 783.271,951.726 803.393,952.946 823.514,965.304 843.636,958.878 863.757,968.687 883.879,979.053 904.001,970.558 924.122,963.853 944.244,981.986 964.365,1000.85 984.487,1004.87 1004.61,994.148 1024.73,1006.29 1044.85,1018.44 1064.97,1022.53 1085.1,1010.6 1105.22,1012.12 1125.34,1034.69 1145.46,1023.13 1165.58,1025.35 1185.7,1035.74 1205.82,1038.73 1225.95,1031.29 1246.07,1043.38 1266.19,1051.93 1286.31,1041.32 1306.43,1026.24 1326.55,1041.83 1346.68,1023.65 1366.8,1033.13 1386.92,1033.24 1407.04,1061.25 1427.16,1050.97 1447.28,1009.34 1467.41,1039.39 1487.53,1023.84 1507.65,1022.75 1527.77,1045.23 1547.89,1062.32 1568.01,1026.27 1588.14,1053.39 1608.26,1030.39 1628.38,1064.2 1648.5,1041.99 1668.62,1041.58 1688.74,1046.93 1708.86,1041.21 1728.99,1018.32 1749.11,1029.2 1769.23,1038.62 1789.35,1013.25 1809.47,1043.87 1829.59,1026.89 1849.72,1018.13 1869.84,1026.6 1889.96,1008.92 1910.08,1029.36 1930.2,1024.36 1950.32,1007.02 1970.45,1012.55 1990.57,1004.45 2010.69,1018.28 2030.81,985.151 2050.93,993.905 2071.05,988.373 2091.18,967.998 2111.3,977.327 2131.42,992.727 2151.54,965.58 2171.66,978.434 2191.78,946.689 2211.9,958.23 2232.03,954.84 2252.15,946.453 2272.27,939.562 2292.39,948.338 \"/>\n",
       "<polyline clip-path=\"url(#clip922)\" style=\"stroke:#e26f46; stroke-linecap:round; stroke-linejoin:round; stroke-width:4; stroke-opacity:1; fill:none\" points=\"280.231,848.885 300.353,852.286 320.474,855.687 340.596,859.088 360.717,862.489 380.839,865.89 400.961,869.29 421.082,872.691 441.204,876.092 461.325,879.493 481.447,882.894 501.569,886.295 521.69,889.695 541.812,893.096 561.933,896.497 582.055,899.898 602.177,903.299 622.298,906.7 642.42,910.1 662.541,913.501 682.663,916.902 702.785,920.303 722.906,923.704 743.028,927.104 763.149,930.505 783.271,933.906 803.393,937.307 823.514,940.708 843.636,944.109 863.757,947.509 883.879,950.91 904.001,954.311 924.122,957.712 944.244,961.113 964.365,964.514 984.487,967.914 1004.61,971.315 1024.73,974.716 1044.85,978.117 1064.97,981.518 1085.1,984.919 1105.22,988.319 1125.34,991.72 1145.46,995.121 1165.58,998.522 1185.7,1001.92 1205.82,1005.32 1225.95,1008.72 1246.07,1012.13 1266.19,1015.53 1286.31,1018.93 1306.43,1022.33 1326.55,1025.73 1346.68,1029.13 1366.8,1032.53 1386.92,1035.93 1407.04,1039.33 1427.16,1042.73 1447.28,1046.13 1467.41,1049.53 1487.53,1052.94 1507.65,1056.34 1527.77,1059.74 1547.89,1063.14 1568.01,1066.54 1588.14,1069.94 1608.26,1073.34 1628.38,1076.74 1648.5,1080.14 1668.62,1083.54 1688.74,1086.94 1708.86,1090.34 1728.99,1093.75 1749.11,1097.15 1769.23,1100.55 1789.35,1103.95 1809.47,1107.35 1829.59,1110.75 1849.72,1114.15 1869.84,1117.55 1889.96,1120.95 1910.08,1124.35 1930.2,1127.75 1950.32,1131.15 1970.45,1134.56 1990.57,1137.96 2010.69,1141.36 2030.81,1144.76 2050.93,1148.16 2071.05,1151.56 2091.18,1154.96 2111.3,1158.36 2131.42,1161.76 2151.54,1165.16 2171.66,1168.56 2191.78,1171.96 2211.9,1175.36 2232.03,1178.77 2252.15,1182.17 2272.27,1185.57 2292.39,1188.97 \"/>\n",
       "<polyline clip-path=\"url(#clip922)\" style=\"stroke:#3da44d; stroke-linecap:round; stroke-linejoin:round; stroke-width:4; stroke-opacity:1; fill:none\" points=\"280.231,812.302 300.353,819.309 320.474,826.212 340.596,833.009 360.717,839.703 380.839,846.292 400.961,852.776 421.082,859.155 441.204,865.431 461.325,871.601 481.447,877.668 501.569,883.629 521.69,889.486 541.812,895.239 561.933,900.887 582.055,906.431 602.177,911.87 622.298,917.204 642.42,922.434 662.541,927.56 682.663,932.58 702.785,937.497 722.906,942.309 743.028,947.016 763.149,951.619 783.271,956.117 803.393,960.511 823.514,964.8 843.636,968.985 863.757,973.065 883.879,977.041 904.001,980.912 924.122,984.679 944.244,988.341 964.365,991.899 984.487,995.352 1004.61,998.7 1024.73,1001.94 1044.85,1005.08 1064.97,1008.12 1085.1,1011.05 1105.22,1013.88 1125.34,1016.6 1145.46,1019.21 1165.58,1021.73 1185.7,1024.13 1205.82,1026.44 1225.95,1028.64 1246.07,1030.73 1266.19,1032.72 1286.31,1034.61 1306.43,1036.39 1326.55,1038.06 1346.68,1039.63 1366.8,1041.1 1386.92,1042.46 1407.04,1043.72 1427.16,1044.88 1447.28,1045.92 1467.41,1046.87 1487.53,1047.71 1507.65,1048.44 1527.77,1049.08 1547.89,1049.6 1568.01,1050.02 1588.14,1050.34 1608.26,1050.55 1628.38,1050.66 1648.5,1050.67 1668.62,1050.57 1688.74,1050.36 1708.86,1050.05 1728.99,1049.64 1749.11,1049.12 1769.23,1048.49 1789.35,1047.77 1809.47,1046.93 1829.59,1046 1849.72,1044.96 1869.84,1043.81 1889.96,1042.56 1910.08,1041.2 1930.2,1039.74 1950.32,1038.18 1970.45,1036.51 1990.57,1034.74 2010.69,1032.86 2030.81,1030.88 2050.93,1028.79 2071.05,1026.6 2091.18,1024.31 2111.3,1021.91 2131.42,1019.4 2151.54,1016.79 2171.66,1014.08 2191.78,1011.26 2211.9,1008.34 2232.03,1005.31 2252.15,1002.18 2272.27,998.942 2292.39,995.601 \"/>\n",
       "<polyline clip-path=\"url(#clip922)\" style=\"stroke:#c271d2; stroke-linecap:round; stroke-linejoin:round; stroke-width:4; stroke-opacity:1; fill:none\" points=\"280.231,810.541 300.353,819.946 320.474,827.8 340.596,834.56 360.717,840.597 380.839,846.208 400.961,851.621 421.082,857.008 441.204,862.492 461.325,868.151 481.447,874.031 501.569,880.145 521.69,886.485 541.812,893.021 561.933,899.713 582.055,906.506 602.177,913.343 622.298,920.161 642.42,926.897 662.541,933.49 682.663,939.883 702.785,946.025 722.906,951.87 743.028,957.381 763.149,962.53 783.271,967.297 803.393,971.67 823.514,975.649 843.636,979.24 863.757,982.458 883.879,985.325 904.001,987.87 924.122,990.13 944.244,992.142 964.365,993.953 984.487,995.606 1004.61,997.151 1024.73,998.633 1044.85,1000.1 1064.97,1001.6 1085.1,1003.16 1105.22,1004.83 1125.34,1006.64 1145.46,1008.6 1165.58,1010.74 1185.7,1013.06 1205.82,1015.56 1225.95,1018.24 1246.07,1021.07 1266.19,1024.02 1286.31,1027.07 1306.43,1030.17 1326.55,1033.26 1346.68,1036.29 1366.8,1039.2 1386.92,1041.94 1407.04,1044.43 1427.16,1046.62 1447.28,1048.47 1467.41,1049.91 1487.53,1050.94 1507.65,1051.53 1527.77,1051.7 1547.89,1051.5 1568.01,1051 1588.14,1050.33 1608.26,1049.64 1628.38,1049.17 1648.5,1049.21 1668.62,1050.13 1688.74,1052.36 1708.86,1056.47 1728.99,1063.1 1749.11,1073.03 1769.23,1087.15 1789.35,1106.5 1809.47,1132.3 1829.59,1165.92 1849.72,1208.93 1869.84,1263.1 1889.96,1330.43 1910.08,1413.17 1930.2,1513.81 1950.32,1635.15 1970.45,1780.28 1990.57,1952.6 2010.69,2155.9 2030.81,2394.32 2050.93,2672.39 2071.05,2995.09 2091.18,3367.84 2111.3,3796.55 2131.42,4287.64 2151.54,4848.07 2171.66,5485.39 2191.78,6207.74 2211.9,7023.92 2232.03,7943.41 2252.15,8976.4 2272.27,10133.8 2292.39,11427.5 \"/>\n",
       "<path clip-path=\"url(#clip920)\" d=\"M1948.46 425.996 L2281.66 425.996 L2281.66 166.796 L1948.46 166.796  Z\" fill=\"#ffffff\" fill-rule=\"evenodd\" fill-opacity=\"1\"/>\n",
       "<polyline clip-path=\"url(#clip920)\" style=\"stroke:#000000; stroke-linecap:round; stroke-linejoin:round; stroke-width:4; stroke-opacity:1; fill:none\" points=\"1948.46,425.996 2281.66,425.996 2281.66,166.796 1948.46,166.796 1948.46,425.996 \"/>\n",
       "<polyline clip-path=\"url(#clip920)\" style=\"stroke:#009af9; stroke-linecap:round; stroke-linejoin:round; stroke-width:4; stroke-opacity:1; fill:none\" points=\"1972.16,218.636 2114.36,218.636 \"/>\n",
       "<path clip-path=\"url(#clip920)\" d=\"M2156.97 213.925 L2156.97 199.897 L2161.23 199.897 L2161.23 235.916 L2156.97 235.916 L2156.97 232.027 Q2155.62 234.342 2153.56 235.476 Q2151.53 236.587 2148.66 236.587 Q2143.96 236.587 2140.99 232.837 Q2138.05 229.087 2138.05 222.976 Q2138.05 216.865 2140.99 213.115 Q2143.96 209.365 2148.66 209.365 Q2151.53 209.365 2153.56 210.499 Q2155.62 211.61 2156.97 213.925 M2142.45 222.976 Q2142.45 227.675 2144.37 230.36 Q2146.32 233.022 2149.7 233.022 Q2153.08 233.022 2155.02 230.36 Q2156.97 227.675 2156.97 222.976 Q2156.97 218.277 2155.02 215.615 Q2153.08 212.93 2149.7 212.93 Q2146.32 212.93 2144.37 215.615 Q2142.45 218.277 2142.45 222.976 Z\" fill=\"#000000\" fill-rule=\"nonzero\" fill-opacity=\"1\" /><path clip-path=\"url(#clip920)\" d=\"M2181.78 222.883 Q2176.62 222.883 2174.63 224.064 Q2172.64 225.244 2172.64 228.092 Q2172.64 230.36 2174.12 231.703 Q2175.62 233.022 2178.19 233.022 Q2181.73 233.022 2183.86 230.522 Q2186.02 227.999 2186.02 223.832 L2186.02 222.883 L2181.78 222.883 M2190.28 221.124 L2190.28 235.916 L2186.02 235.916 L2186.02 231.981 Q2184.56 234.342 2182.38 235.476 Q2180.21 236.587 2177.06 236.587 Q2173.08 236.587 2170.72 234.365 Q2168.38 232.119 2168.38 228.369 Q2168.38 223.994 2171.29 221.772 Q2174.23 219.55 2180.04 219.55 L2186.02 219.55 L2186.02 219.133 Q2186.02 216.194 2184.07 214.596 Q2182.15 212.976 2178.66 212.976 Q2176.43 212.976 2174.33 213.508 Q2172.22 214.041 2170.28 215.106 L2170.28 211.17 Q2172.61 210.268 2174.81 209.828 Q2177.01 209.365 2179.1 209.365 Q2184.72 209.365 2187.5 212.282 Q2190.28 215.198 2190.28 221.124 Z\" fill=\"#000000\" fill-rule=\"nonzero\" fill-opacity=\"1\" /><path clip-path=\"url(#clip920)\" d=\"M2203.26 202.629 L2203.26 209.99 L2212.04 209.99 L2212.04 213.3 L2203.26 213.3 L2203.26 227.374 Q2203.26 230.545 2204.12 231.448 Q2205 232.351 2207.66 232.351 L2212.04 232.351 L2212.04 235.916 L2207.66 235.916 Q2202.73 235.916 2200.85 234.087 Q2198.98 232.235 2198.98 227.374 L2198.98 213.3 L2195.85 213.3 L2195.85 209.99 L2198.98 209.99 L2198.98 202.629 L2203.26 202.629 Z\" fill=\"#000000\" fill-rule=\"nonzero\" fill-opacity=\"1\" /><path clip-path=\"url(#clip920)\" d=\"M2229.42 222.883 Q2224.26 222.883 2222.27 224.064 Q2220.28 225.244 2220.28 228.092 Q2220.28 230.36 2221.76 231.703 Q2223.26 233.022 2225.83 233.022 Q2229.37 233.022 2231.5 230.522 Q2233.66 227.999 2233.66 223.832 L2233.66 222.883 L2229.42 222.883 M2237.91 221.124 L2237.91 235.916 L2233.66 235.916 L2233.66 231.981 Q2232.2 234.342 2230.02 235.476 Q2227.85 236.587 2224.7 236.587 Q2220.72 236.587 2218.35 234.365 Q2216.02 232.119 2216.02 228.369 Q2216.02 223.994 2218.93 221.772 Q2221.87 219.55 2227.68 219.55 L2233.66 219.55 L2233.66 219.133 Q2233.66 216.194 2231.71 214.596 Q2229.79 212.976 2226.29 212.976 Q2224.07 212.976 2221.97 213.508 Q2219.86 214.041 2217.91 215.106 L2217.91 211.17 Q2220.25 210.268 2222.45 209.828 Q2224.65 209.365 2226.73 209.365 Q2232.36 209.365 2235.14 212.282 Q2237.91 215.198 2237.91 221.124 Z\" fill=\"#000000\" fill-rule=\"nonzero\" fill-opacity=\"1\" /><polyline clip-path=\"url(#clip920)\" style=\"stroke:#e26f46; stroke-linecap:round; stroke-linejoin:round; stroke-width:4; stroke-opacity:1; fill:none\" points=\"1972.16,270.476 2114.36,270.476 \"/>\n",
       "<path clip-path=\"url(#clip920)\" d=\"M2142.73 257.038 L2142.73 270.024 L2148.61 270.024 Q2151.87 270.024 2153.66 268.335 Q2155.44 266.645 2155.44 263.52 Q2155.44 260.418 2153.66 258.728 Q2151.87 257.038 2148.61 257.038 L2142.73 257.038 M2138.05 253.196 L2148.61 253.196 Q2154.42 253.196 2157.38 255.835 Q2160.37 258.45 2160.37 263.52 Q2160.37 268.635 2157.38 271.251 Q2154.42 273.867 2148.61 273.867 L2142.73 273.867 L2142.73 287.756 L2138.05 287.756 L2138.05 253.196 Z\" fill=\"#000000\" fill-rule=\"nonzero\" fill-opacity=\"1\" /><path clip-path=\"url(#clip920)\" d=\"M2182.08 266.228 L2211.76 266.228 L2211.76 270.117 L2182.08 270.117 L2182.08 266.228 M2182.08 275.672 L2211.76 275.672 L2211.76 279.608 L2182.08 279.608 L2182.08 275.672 Z\" fill=\"#000000\" fill-rule=\"nonzero\" fill-opacity=\"1\" /><path clip-path=\"url(#clip920)\" d=\"M2237.73 283.821 L2245.37 283.821 L2245.37 257.455 L2237.06 259.122 L2237.06 254.862 L2245.32 253.196 L2250 253.196 L2250 283.821 L2257.64 283.821 L2257.64 287.756 L2237.73 287.756 L2237.73 283.821 Z\" fill=\"#000000\" fill-rule=\"nonzero\" fill-opacity=\"1\" /><polyline clip-path=\"url(#clip920)\" style=\"stroke:#3da44d; stroke-linecap:round; stroke-linejoin:round; stroke-width:4; stroke-opacity:1; fill:none\" points=\"1972.16,322.316 2114.36,322.316 \"/>\n",
       "<path clip-path=\"url(#clip920)\" d=\"M2142.73 308.878 L2142.73 321.864 L2148.61 321.864 Q2151.87 321.864 2153.66 320.175 Q2155.44 318.485 2155.44 315.36 Q2155.44 312.258 2153.66 310.568 Q2151.87 308.878 2148.61 308.878 L2142.73 308.878 M2138.05 305.036 L2148.61 305.036 Q2154.42 305.036 2157.38 307.675 Q2160.37 310.29 2160.37 315.36 Q2160.37 320.475 2157.38 323.091 Q2154.42 325.707 2148.61 325.707 L2142.73 325.707 L2142.73 339.596 L2138.05 339.596 L2138.05 305.036 Z\" fill=\"#000000\" fill-rule=\"nonzero\" fill-opacity=\"1\" /><path clip-path=\"url(#clip920)\" d=\"M2182.08 318.068 L2211.76 318.068 L2211.76 321.957 L2182.08 321.957 L2182.08 318.068 M2182.08 327.512 L2211.76 327.512 L2211.76 331.448 L2182.08 331.448 L2182.08 327.512 Z\" fill=\"#000000\" fill-rule=\"nonzero\" fill-opacity=\"1\" /><path clip-path=\"url(#clip920)\" d=\"M2240.95 335.661 L2257.27 335.661 L2257.27 339.596 L2235.32 339.596 L2235.32 335.661 Q2237.98 332.906 2242.57 328.276 Q2247.17 323.624 2248.35 322.281 Q2250.6 319.758 2251.48 318.022 Q2252.38 316.263 2252.38 314.573 Q2252.38 311.818 2250.44 310.082 Q2248.52 308.346 2245.41 308.346 Q2243.22 308.346 2240.76 309.11 Q2238.33 309.874 2235.55 311.425 L2235.55 306.702 Q2238.38 305.568 2240.83 304.989 Q2243.28 304.411 2245.32 304.411 Q2250.69 304.411 2253.89 307.096 Q2257.08 309.781 2257.08 314.272 Q2257.08 316.401 2256.27 318.323 Q2255.48 320.221 2253.38 322.813 Q2252.8 323.485 2249.7 326.702 Q2246.6 329.897 2240.95 335.661 Z\" fill=\"#000000\" fill-rule=\"nonzero\" fill-opacity=\"1\" /><polyline clip-path=\"url(#clip920)\" style=\"stroke:#c271d2; stroke-linecap:round; stroke-linejoin:round; stroke-width:4; stroke-opacity:1; fill:none\" points=\"1972.16,374.156 2114.36,374.156 \"/>\n",
       "<path clip-path=\"url(#clip920)\" d=\"M2142.73 360.718 L2142.73 373.704 L2148.61 373.704 Q2151.87 373.704 2153.66 372.015 Q2155.44 370.325 2155.44 367.2 Q2155.44 364.098 2153.66 362.408 Q2151.87 360.718 2148.61 360.718 L2142.73 360.718 M2138.05 356.876 L2148.61 356.876 Q2154.42 356.876 2157.38 359.515 Q2160.37 362.13 2160.37 367.2 Q2160.37 372.315 2157.38 374.931 Q2154.42 377.547 2148.61 377.547 L2142.73 377.547 L2142.73 391.436 L2138.05 391.436 L2138.05 356.876 Z\" fill=\"#000000\" fill-rule=\"nonzero\" fill-opacity=\"1\" /><path clip-path=\"url(#clip920)\" d=\"M2182.08 369.908 L2211.76 369.908 L2211.76 373.797 L2182.08 373.797 L2182.08 369.908 M2182.08 379.352 L2211.76 379.352 L2211.76 383.288 L2182.08 383.288 L2182.08 379.352 Z\" fill=\"#000000\" fill-rule=\"nonzero\" fill-opacity=\"1\" /><path clip-path=\"url(#clip920)\" d=\"M2235.74 356.876 L2257.96 356.876 L2257.96 358.866 L2245.41 391.436 L2240.53 391.436 L2252.34 360.811 L2235.74 360.811 L2235.74 356.876 Z\" fill=\"#000000\" fill-rule=\"nonzero\" fill-opacity=\"1\" /></svg>\n"
      ]
     },
     "metadata": {},
     "output_type": "display_data"
    }
   ],
   "source": [
    "# plot the data and each of the fitted polynomials, keep the y-axis at 0 - 1\n",
    "plot(x_new, y_new, label=\"data\", xlabel=\"x\", ylabel=\"y\", title=\"Data\", ylims=(0, 1))\n",
    "for (P, (theta_hat, logL)) in zip(P_values, estimates)\n",
    "    y_hat = design_matrix(x_new, P) * theta_hat\n",
    "    plot!(x_new, y_hat, label=\"P = $P\")\n",
    "end\n",
    "plot!()"
   ]
  },
  {
   "cell_type": "markdown",
   "metadata": {},
   "source": [
    "# Exercise 1.2"
   ]
  },
  {
   "cell_type": "markdown",
   "metadata": {},
   "source": [
    "## 1.2 a"
   ]
  },
  {
   "cell_type": "markdown",
   "metadata": {},
   "source": [
    "By Bayes' theorem, the posterior distribution of the parameters is given by:\n",
    "\n",
    "$$\n",
    "p(\\boldsymbol{\\theta} | \\mathbf{y}) = \\frac{p(\\mathbf{y} | \\boldsymbol{\\theta}) p(\\boldsymbol{\\theta})}{p(\\mathbf{y})}\n",
    "$$\n",
    "\n",
    "Taking the logarithm:\n",
    "\n",
    "$$\n",
    "\\log p(\\boldsymbol{\\theta} | \\mathbf{y}) = \\log p(\\mathbf{y} | \\boldsymbol{\\theta}) + \\log p(\\boldsymbol{\\theta}) - \\log p(\\mathbf{y})\n",
    "$$\n",
    "\n",
    "Since $p(\\mathbf{y})$ is independent of $\\boldsymbol{\\theta}$, it can be ignored in optimization.\n",
    "\n",
    "From **Exercise 1.1**, the likelihood function assuming **iid Gaussian noise** is:\n",
    "\n",
    "$$\n",
    "p(\\mathbf{y} | \\boldsymbol{\\theta}) = \\frac{1}{(2\\pi\\sigma^2)^{N/2}} \\exp \\left( -\\frac{1}{2\\sigma^2} \\|\\mathbf{y} - X\\boldsymbol{\\theta}\\|^2 \\right)\n",
    "$$\n",
    "\n",
    "Taking the logarithm:\n",
    "\n",
    "$$\n",
    "\\log p(\\mathbf{y} | \\boldsymbol{\\theta}) = -\\frac{N}{2} \\log(2\\pi\\sigma^2) - \\frac{1}{2\\sigma^2} \\|\\mathbf{y} - X\\boldsymbol{\\theta}\\|^2\n",
    "$$\n",
    "\n",
    "The prior is given as a **Gaussian distribution**:\n",
    "\n",
    "$$\n",
    "p(\\boldsymbol{\\theta}) = \\frac{1}{\\sqrt{|2\\pi\\Sigma_0|}} \\exp \\left( -\\frac{1}{2} (\\boldsymbol{\\theta} - \\boldsymbol{\\mu}_0)^T \\Sigma_0^{-1} (\\boldsymbol{\\theta} - \\boldsymbol{\\mu}_0) \\right)\n",
    "$$\n",
    "\n",
    "\n",
    "Since we assume **$\\Sigma_0 = I$ and $\\boldsymbol{\\mu}_0 = 0$**, the prior simplifies to:\n",
    "\n",
    "$$\n",
    "p(\\boldsymbol{\\theta}) = \\frac{1}{\\sqrt{(2\\pi)^P}} \\exp \\left( -\\frac{1}{2} \\|\\boldsymbol{\\theta}\\|^2 \\right)\n",
    "$$\n",
    "\n",
    "Taking the logarithm:\n",
    "\n",
    "$$\n",
    "\\log p(\\boldsymbol{\\theta}) = -\\frac{P}{2} \\log(2\\pi) - \\frac{1}{2} \\|\\boldsymbol{\\theta}\\|^2\n",
    "$$\n",
    "\n",
    "Combining both terms:\n",
    "\n",
    "$$\n",
    "\\log p(\\boldsymbol{\\theta} | \\mathbf{y}) = -\\frac{N}{2} \\log(2\\pi\\sigma^2) - \\frac{1}{2\\sigma^2} \\|\\mathbf{y} - X\\boldsymbol{\\theta}\\|^2 - \\frac{P}{2} \\log(2\\pi) - \\frac{1}{2} \\|\\boldsymbol{\\theta}\\|^2\n",
    "$$\n",
    "\n",
    "Ignoring constants that do not depend on $\\boldsymbol{\\theta}$, we obtain the **final expression for the log-posterior**:\n",
    "\n",
    "$$\n",
    "\\log p(\\boldsymbol{\\theta} | \\mathbf{y}) = -\\frac{1}{2\\sigma^2} \\|\\mathbf{y} - X\\boldsymbol{\\theta}\\|^2 - \\frac{1}{2} \\|\\boldsymbol{\\theta}\\|^2 + C\n",
    "$$\n",
    "\n",
    "where $C$ represents constants that do not affect optimization.\n",
    "\n",
    "This **log-posterior function** is the objective function for **Maximum-A-Posteriori (MAP) estimation**, which balances **data fitting (likelihood)** and **regularization (prior)**."
   ]
  },
  {
   "cell_type": "markdown",
   "metadata": {},
   "source": [
    "## 1.2 b"
   ]
  },
  {
   "cell_type": "code",
   "execution_count": null,
   "metadata": {},
   "outputs": [],
   "source": [
    "Pkg.add(\"Optim\")\n",
    "Pkg.add(\"LinearAlgebra\")\n",
    "using Optim, LinearAlgebra\n",
    "\n",
    "# Define the log-likeliohood function\n",
    "function log_likelihood(theta, X, y, sigma_2)\n",
    "    N = length(y)\n",
    "    residual = y - X * theta\n",
    "    return - (1 / (2 * sigma_2)) * sum(residual .^ 2)\n",
    "end\n",
    "\n",
    "# Define the log-prior function\n",
    "function log_prior(theta)\n",
    "    return - (1 / 2) * sum(theta .^ 2)\n",
    "end\n",
    "\n",
    "# Define the negative log-posterior (to minimize)\n",
    "function neg_log_posterior(theta, X, y, sigma_2)\n",
    "    return - (log_likelihood(theta, X, y, sigma_2) + log_prior(theta))\n",
    "end\n",
    "\n",
    "# Function to compute the MAP estimate\n",
    "function compute_map_estimate(X, y, sigma_2)\n",
    "    P = size(X, 2)\n",
    "    theta_init = zeros(P)\n",
    "    result = optimize(theta -> neg_log_posterior(theta, X, y, sigma_2), theta_init, LBFGS())\n",
    "    return Optim.minimizer(result)\n",
    "end"
   ]
  },
  {
   "cell_type": "markdown",
   "metadata": {},
   "source": [
    "## 1.2 c"
   ]
  },
  {
   "cell_type": "code",
   "execution_count": null,
   "metadata": {},
   "outputs": [],
   "source": [
    "using Random\n",
    "\n",
    "# Define the true parameters and sigma^2\n",
    "theta_true = [0.3, -0.1, 0.5]\n",
    "sigma_2 = 0.001\n",
    "\n",
    "# Generate the X and corresponding y values\n",
    "X_values = -0.5:0.01:0.2\n",
    "N = length(X_values)\n",
    "X = hcat(ones(N), X_values, X_values .^ 2)\n",
    "\n",
    "# Add Gaussian noise to the true model to generate y values\n",
    "y = X * theta_true + sqrt(sigma_2) * randn(N)\n",
    "\n",
    "# Apply the MAP estimator for different values of P\n",
    "P_values = [1, 2, 7]\n",
    "\n",
    "for P in P_values\n",
    "    X_P = hcat(ones(N), [X_values .^ p for p in 1:P]...) # Design matrix for Pth-order model\n",
    "    map_estimate = compute_map_estimate(X_P, y, sigma_2)\n",
    "    println(\"P = $P: MAP estimate = $map_estimate\")\n",
    "end\n"
   ]
  },
  {
   "cell_type": "markdown",
   "metadata": {},
   "source": [
    "For $P=1$ and $P=2$, the MAP estimates will be slightly different from the true values because the regularization slightly penalizes large values of $\\theta_1, \\theta_2$ etc. However, because the model is not too complex, the MAP estimates should still be reasonably close to the true values. The regularization effect will have a more noticeable impact if we have a larger value of P.\n",
    "\n",
    "For $P=7$, the MAP estimates should be closer to the true values compared to the ML estimates because the regularization imposed by the prior forces the parameters to remain more reasonable, rather than overfitting the noise in the data."
   ]
  },
  {
   "cell_type": "markdown",
   "metadata": {},
   "source": [
    "## 1.2 d"
   ]
  },
  {
   "cell_type": "code",
   "execution_count": null,
   "metadata": {},
   "outputs": [],
   "source": [
    "using Plots\n",
    "\n",
    "# Number of repetitions\n",
    "reps = 100\n",
    "\n",
    "map_estimates_P1 = Float64[]\n",
    "map_estimates_P2 = Float64[]\n",
    "map_estimates_P7 = Float64[]\n",
    "\n",
    "for _ in 1:reps\n",
    "    y = X * theta_true + sqrt(sigma_2) * randn(N)\n",
    "\n",
    "    # Apply the MAP estimator for different values of P\n",
    "    X_P1 = hcat(ones(N), X_values)\n",
    "    X_P2 = hcat(ones(N), X_values, X_values .^ 2)\n",
    "    X_P7 = hcat(ones(N), [X_values .^ p for p in 1:7]...)\n",
    "\n",
    "    # MAP estimates for P = 1, P = 2, P = 7\n",
    "    map_estimate_P1 = compute_map_estimate(X_P1, y, sigma_2)\n",
    "    map_estimate_P2 = compute_map_estimate(X_P2, y, sigma_2)\n",
    "    map_estimate_P7 = compute_map_estimate(X_P7, y, sigma_2)\n",
    "\n",
    "    # Store the estimates\n",
    "    push!(map_estimates_P1, map_estimate_P1[2])\n",
    "    push!(map_estimates_P2, map_estimate_P2[2])\n",
    "    push!(map_estimates_P7, map_estimate_P7[2])\n",
    "end\n",
    "\n",
    "# Plot the histograms of the MAP estimates for each value of P\n",
    "histogram(map_estimates_P1, title=\"MAP Estimates for P=1\", xlabel=\"θ1\", ylabel=\"Frequency\")\n",
    "histogram(map_estimates_P2, title=\"MAP Estimates for P=2\", xlabel=\"θ1\", ylabel=\"Frequency\")\n",
    "histogram(map_estimates_P7, title=\"MAP Estimates for P=7\", xlabel=\"θ1\", ylabel=\"Frequency\")"
   ]
  },
  {
   "cell_type": "markdown",
   "metadata": {},
   "source": [
    "The MAP histograms will be narrower than the ML histograms, especially for higher-order models. This is due to the shrinkage imposed by the prior, which regularizes the estimates and prevents them from becoming too large.\n",
    "\n",
    "For higher-order models (like $P=7$), the MAP histograms will have less variance compared to the ML histograms. This is because the MAP estimation reduces overfitting by penalizing large parameter values through the prior.\n",
    "\n",
    "The MAP estimates will generally be closer to the true values of the parameters, particularly for higher-order models. The histograms for MAP will be tightly centered around the true values, especially for $P=7$, while the ML histograms might show more deviation due to overfitting."
   ]
  },
  {
   "cell_type": "markdown",
   "metadata": {},
   "source": [
    "# Exercise 1.3"
   ]
  }
 ],
 "metadata": {
  "kernelspec": {
   "display_name": "Julia 1.11.3",
   "language": "julia",
   "name": "julia-1.11"
  },
  "language_info": {
   "file_extension": ".jl",
   "mimetype": "application/julia",
   "name": "julia",
   "version": "1.11.3"
  }
 },
 "nbformat": 4,
 "nbformat_minor": 2
}

{
 "cells": [
  {
   "cell_type": "markdown",
   "metadata": {},
   "source": [
    "# 1"
   ]
  },
  {
   "cell_type": "markdown",
   "metadata": {
    "vscode": {
     "languageId": "plaintext"
    }
   },
   "source": [
    "## 1.1.a\n",
    "\n",
    "### Step 1: Probability distribution of y\n",
    "As $\\varepsilon$ follows the normal distribution, the conditional distribution of y given x is:\n",
    "\n",
    "$$\n",
    "y \\mid x \\sim \\mathcal{N} \\left( \\theta_0 + \\theta_1 x + \\dots + \\theta_P x^P, \\sigma^2 \\right)\n",
    "$$\n",
    "\n",
    "The probability density function (PDF) for a normal distribution is:\n",
    "\n",
    "$$\n",
    "p(y \\mid x, \\theta, \\sigma^2) = \\frac{1}{\\sqrt{2\\pi\\sigma^2}} \\exp \\left( -\\frac{(y - \\mu(x))^2}{2\\sigma^2} \\right)\n",
    "$$\n",
    "\n",
    "Where $\\mu(x)$ is the predicted value:\n",
    "\n",
    "$$\n",
    "\\mu(x) = \\theta_0 + \\theta_1 x + \\dots + \\theta_P x^P.\n",
    "$$\n",
    "\n",
    "---\n",
    "\n",
    "### Step 2: Likelihood function\n",
    "\n",
    "Given N independent observations $\\mathbf{y} = (y_1, y_2, \\dots, y_N)^T$, the likelihood function is:\n",
    "\n",
    "$$\n",
    "L(\\theta, \\sigma^2) = \\prod_{i=1}^{N} p(y_i \\mid x_i, \\theta, \\sigma^2)\n",
    "$$\n",
    "\n",
    "Substituting the normal PDF:\n",
    "\n",
    "$$\n",
    "L(\\theta, \\sigma^2) = \\prod_{i=1}^{N} \\frac{1}{\\sqrt{2\\pi\\sigma^2}} \\exp \\left( -\\frac{(y_i - \\mu(x_i))^2}{2\\sigma^2} \\right)\n",
    "$$\n",
    "\n",
    "---\n",
    "\n",
    "### Step 3: Log-likelihood function\n",
    "\n",
    "Taking the natural logarithm:\n",
    "\n",
    "$$\n",
    "\\log L(\\theta, \\sigma^2) = \\sum_{i=1}^{N} \\left[ -\\frac{1}{2} \\log (2\\pi\\sigma^2) - \\frac{(y_i - \\mu(x_i))^2}{2\\sigma^2} \\right]\n",
    "$$\n",
    "\n",
    "Simplifying:\n",
    "\n",
    "$$\n",
    "\\log L(\\theta, \\sigma^2) = -\\frac{N}{2} \\log (2\\pi\\sigma^2) - \\frac{1}{2\\sigma^2} \\sum_{i=1}^{N} (y_i - \\mu(x_i))^2\n",
    "$$\n",
    "\n",
    "Where\n",
    "\n",
    "$$\n",
    "\\mu(x_i) = \\theta_0 + \\theta_1 x_i + \\dots + \\theta_P x_i^P.\n",
    "$$`"
   ]
  },
  {
   "cell_type": "markdown",
   "metadata": {},
   "source": [
    "## 1.1 b "
   ]
  },
  {
   "cell_type": "markdown",
   "metadata": {},
   "source": [
    "## 1.1 c "
   ]
  },
  {
   "cell_type": "code",
   "execution_count": null,
   "metadata": {},
   "outputs": [],
   "source": [
    "import Pkg\n",
    "Pkg.add(\"Plots\")\n",
    "using Plots\n",
    "\n",
    "theta_0 = 0.3\n",
    "theta_1 = -0.1\n",
    "theta_2 = 0.5\n",
    "variance = 0.0001\n",
    "standard_deviation = sqrt(variance)\n",
    "\n",
    "x = -0.5:0.1:0.2\n",
    "\n",
    "Random.seed!(42) # seed for reproducibility\n",
    "epsilon = randn(length(x))\n",
    "y = theta_0 .+ theta_1*x .+ theta_2*x.^2 .+ standard_deviation*epsilon\n",
    "\n",
    "scatter(x, y, label=\"data\", xlabel=\"x\", ylabel=\"y\", title=\"Data\")"
   ]
  },
  {
   "cell_type": "markdown",
   "metadata": {},
   "source": [
    "# 2"
   ]
  },
  {
   "cell_type": "code",
   "execution_count": null,
   "metadata": {},
   "outputs": [],
   "source": []
  },
  {
   "cell_type": "markdown",
   "metadata": {},
   "source": [
    "# 3"
   ]
  }
 ],
 "metadata": {
  "kernelspec": {
   "display_name": "Julia 1.11.3",
   "language": "julia",
   "name": "julia-1.11"
  },
  "language_info": {
   "file_extension": ".jl",
   "mimetype": "application/julia",
   "name": "julia",
   "version": "1.11.3"
  }
 },
 "nbformat": 4,
 "nbformat_minor": 2
}

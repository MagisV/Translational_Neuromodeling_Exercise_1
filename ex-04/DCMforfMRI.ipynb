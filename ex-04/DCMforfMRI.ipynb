{
 "cells": [
  {
   "cell_type": "markdown",
   "metadata": {},
   "source": [
    "# Exercise 4: DCM for fMRI"
   ]
  },
  {
   "cell_type": "markdown",
   "metadata": {},
   "source": [
    "## Exercise 4.1: Programming a two region DCM"
   ]
  },
  {
   "cell_type": "markdown",
   "metadata": {},
   "source": [
    "a. writing a function to calculate the right-hand side of the differential equation (1)"
   ]
  },
  {
   "cell_type": "code",
   "execution_count": 12,
   "metadata": {},
   "outputs": [
    {
     "data": {
      "text/plain": [
       "single_step_neural (generic function with 1 method)"
      ]
     },
     "metadata": {},
     "output_type": "display_data"
    }
   ],
   "source": [
    "function single_step_neural(x::Vector{Float64}, u::Vector{Float64}, Pneural::Dict{String, Matrix{Float64}})\n",
    "    u1, u2 = u[1], u[2] # u1 is driving input, u2 is modulating input of 2d input vector u (u1 and u2 are columns)\n",
    "    A = Pneural[\"A\"]    # fixed connectivity matrix\n",
    "    B = Pneural[\"B\"]    # modulatory connectivity matrix\n",
    "    C = Pneural[\"C\"]    # driving input matrix??\n",
    "\n",
    "    # defining connectivity matrix CON\n",
    "    CON = zeros(2, 2)\n",
    "    CON[1, 1] = -0.5 * exp(A[1, 1] + u2 * B[1, 1])\n",
    "    CON[1, 2] = A[1, 2] + u2 * B[1, 2]\n",
    "    CON[2, 1] = A[2, 1] + u2 * B[2, 1]\n",
    "    CON[2, 2] = -0.5 * exp(A[2, 2] + u2 * B[2, 2])\n",
    "\n",
    "    # computing dx/dt\n",
    "    dx_dt = CON * x + C * [u1, 0.0]\n",
    "    return dx_dt\n",
    "end"
   ]
  },
  {
   "cell_type": "code",
   "execution_count": 13,
   "metadata": {},
   "outputs": [
    {
     "name": "stdout",
     "output_type": "stream",
     "text": [
      "dx/dt = [4.881860964770564, -1.222707218511336]\n"
     ]
    }
   ],
   "source": [
    "# testing 4.1a (this was all chatGPT tbh... but supposedly its gives the expected output)\n",
    "using LinearAlgebra, Test\n",
    "\n",
    "A = [0.1 0.2; 0.3 0.4]\n",
    "\n",
    "B = [0.01 0.02; 0.03 0.04]\n",
    "\n",
    "C = [1.0 0.0; 0.0 0.0]\n",
    "\n",
    "Pneural = Dict(\"A\" => A, \"B\" => B, \"C\" => C)\n",
    "\n",
    "x = [1.0, 2.0]\n",
    "u = [5.0, 1.0]\n",
    "\n",
    "dx_dt = single_step_neural(x, u, Pneural)\n",
    "println(\"dx/dt = \", dx_dt)"
   ]
  },
  {
   "cell_type": "markdown",
   "metadata": {},
   "source": [
    "b.  writing a function that computes the update for the hemodynamic model of a single region"
   ]
  },
  {
   "cell_type": "code",
   "execution_count": 14,
   "metadata": {},
   "outputs": [
    {
     "data": {
      "text/plain": [
       "single_step_hrf (generic function with 1 method)"
      ]
     },
     "metadata": {},
     "output_type": "display_data"
    }
   ],
   "source": [
    "function single_step_hrf(h::Vector{Float64}, x::Vector{Float64}, P_HRF::Dict{String, Float64})\n",
    "    s, f, v, q = h\n",
    "\n",
    "    # note: in this exercise, fixed values: κ = 0.64, γ = 0.32, τ = 2, α = 0.32 and E0 = 0.4\n",
    "    k = PHRF[\"κ\"]\n",
    "    y = PHRF[\"γ\"]\n",
    "    t = PHRF[\"τ\"]\n",
    "    a = PHRF[\"α\"]\n",
    "    E0 = PHRF[\"E0\"]\n",
    "\n",
    "    # getting ds (eq. 4)\n",
    "    ds = x - k * s - y * (f - 1)\n",
    "    # getting df (eq. 5)\n",
    "    df = s\n",
    "    # getting dv (eq. 6)\n",
    "    dv = (1 / t) * (f - v^(1 / a))\n",
    "    # getting dv (eq. 6)\n",
    "    interm = (1 - (1 - E0)^(1 / f)) / E0\n",
    "    dq = (1/t) * (f * interm - v^(1 / a) * (q / v))\n",
    "\n",
    "    return [ds, df, dv, dq]\n",
    "end"
   ]
  }
 ],
 "metadata": {
  "kernelspec": {
   "display_name": "Julia 1.11.3",
   "language": "julia",
   "name": "julia-1.11"
  },
  "language_info": {
   "file_extension": ".jl",
   "mimetype": "application/julia",
   "name": "julia",
   "version": "1.11.3"
  }
 },
 "nbformat": 4,
 "nbformat_minor": 2
}

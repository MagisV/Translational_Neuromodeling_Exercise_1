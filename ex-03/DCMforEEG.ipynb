{
 "cells": [
  {
   "cell_type": "code",
   "execution_count": 1,
   "id": "750506a2-f6a0-4c3f-bb49-95747b60f288",
   "metadata": {},
   "outputs": [],
   "source": [
    "using LinearAlgebra\n",
    "using Distributions, Random\n",
    "using Plots, LaTeXStrings\n",
    "using CSV"
   ]
  },
  {
   "cell_type": "markdown",
   "id": "7eb1e0bd",
   "metadata": {},
   "source": [
    "# DCM for EEG: parameter estimation and inference on network structure\n",
    "\n",
    "In this exercise, we will perform a reduced model inversion similar to how one could infer on the most likely modulation structure in an empirical question. For the solutions to exercises (a)-(c), please provide your code by filling in the missing cells in this notebook.\n",
    "\n",
    "Consider the following setup:\n",
    "$$\\dot{x} = Ax+Cu$$\n",
    "$$x(t) = 0, t<0$$\n",
    "\n",
    "with \n",
    "\n",
    "$$A = \\begin{bmatrix}\n",
    "    0 & 1 & 0 & 0 \\\\ \n",
    "    -\\kappa_1^2 & -f_1 & a_f & 0 \\\\ \n",
    "    0 & 0 & 0 & 1 \\\\\n",
    "    a_b & 0 & -\\kappa_2^2 & -f_2 \n",
    "\\end{bmatrix} $$\n",
    "\n",
    "$$C = \\begin{bmatrix} \n",
    "    0 \\\\ 0 \\\\ 0 \\\\ c \n",
    "\\end{bmatrix} $$\n",
    "\n",
    "$$u(t) = N(t,\\mu,\\sigma)$$\n"
   ]
  },
  {
   "cell_type": "markdown",
   "id": "1a7c1e85",
   "metadata": {},
   "source": [
    "### a) Integration  (10 Points)\n",
    "Integrate the system described above over the interval $0 ≤ t ≤ 0.2s$. \n",
    "Use the following settings and verify, that the integrated states $x_1$ and $x_3$ correspond to the data *x_condition_1 in tn2023_ex3.csv*.\n",
    "\n",
    "$$\\kappa_1 = 80$$\n",
    "$$\\kappa_2 = f_1 = f_2 = 50$$\n",
    "$$a_f = 3000$$\n",
    "$$a_b = 1000$$\n",
    "$$c = 1$$\n",
    "$$\\mu = 0.05$$\n",
    "$$\\sigma = 0.01$$\n",
    "\n",
    "Where $\\kappa_1$ and $\\kappa_2$ are defined in a population-specific manner, $a_f$ represents the weight of the forward connection, and $a_b$ the weight of the backward connection.\n",
    "\n",
    "*Hint: You can use any integration scheme you like with adequate step-size. A simple Euler based integration scheme with $dt = 0.001s$ will work just fine.* "
   ]
  },
  {
   "cell_type": "markdown",
   "id": "13be9a43",
   "metadata": {},
   "source": [
    "### b) Parameter identification (8 Points)\n",
    "When looking at *x_condition_2.csv*, it becomes apparent that something in the system has changed. \n",
    "\n",
    "In fact, we have changed one of the following parameter values: $\\kappa_1$, $\\kappa_2$, $a_f$, $a_b$. Try to find out which!\n",
    "Compare the four different hypotheses in terms of the residual sum of squares or explained variance\n",
    "\n",
    "$$v_E = 1 − \\frac{var(y − y_p)}{var(y)}$$\n",
    "\n",
    "Which model best explains the data? What is the ensuing parameter estimate?\n",
    "\n",
    "*Hint: You can use a simple grid-search over the parameters. The true model should at least reach 98% of explained variance.*"
   ]
  },
  {
   "cell_type": "markdown",
   "id": "45c285a7",
   "metadata": {},
   "source": [
    "### c) Forward model (2 Points)\n",
    "We have told you to look at the output of states $x_1$ and $x_3$. What would be the analogy in terms of a leadfield matrix $L$, such that\n",
    "$$ y(t) = Lx(t)$$\n",
    "corresponds to the activity of these two states?"
   ]
  }
 ],
 "metadata": {
  "kernelspec": {
   "display_name": "Julia 1.10.0",
   "language": "julia",
   "name": "julia-1.10"
  },
  "language_info": {
   "file_extension": ".jl",
   "mimetype": "application/julia",
   "name": "julia",
   "version": "1.10.0"
  }
 },
 "nbformat": 4,
 "nbformat_minor": 5
}
